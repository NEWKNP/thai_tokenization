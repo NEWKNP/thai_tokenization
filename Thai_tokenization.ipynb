{
  "nbformat": 4,
  "nbformat_minor": 0,
  "metadata": {
    "colab": {
      "name": "Thai_tokenization.ipynb",
      "provenance": [],
      "toc_visible": true
    },
    "kernelspec": {
      "name": "python3",
      "display_name": "Python 3"
    },
    "language_info": {
      "name": "python"
    },
    "widgets": {
      "application/vnd.jupyter.widget-state+json": {
        "290daa96c6ef460c9ed639fcb599be4d": {
          "model_module": "@jupyter-widgets/controls",
          "model_name": "HBoxModel",
          "model_module_version": "1.5.0",
          "state": {
            "_dom_classes": [],
            "_model_module": "@jupyter-widgets/controls",
            "_model_module_version": "1.5.0",
            "_model_name": "HBoxModel",
            "_view_count": null,
            "_view_module": "@jupyter-widgets/controls",
            "_view_module_version": "1.5.0",
            "_view_name": "HBoxView",
            "box_style": "",
            "children": [
              "IPY_MODEL_c29f5c41aef7474b8635de64df0a4384",
              "IPY_MODEL_102dad2497ad4ef09c82f3f402048eb4",
              "IPY_MODEL_35d31ce72d804817a4df9ce4383e457c"
            ],
            "layout": "IPY_MODEL_f9a8733fab62445fa97fa7c8a6ea8bbe"
          }
        },
        "c29f5c41aef7474b8635de64df0a4384": {
          "model_module": "@jupyter-widgets/controls",
          "model_name": "HTMLModel",
          "model_module_version": "1.5.0",
          "state": {
            "_dom_classes": [],
            "_model_module": "@jupyter-widgets/controls",
            "_model_module_version": "1.5.0",
            "_model_name": "HTMLModel",
            "_view_count": null,
            "_view_module": "@jupyter-widgets/controls",
            "_view_module_version": "1.5.0",
            "_view_name": "HTMLView",
            "description": "",
            "description_tooltip": null,
            "layout": "IPY_MODEL_d20df7c5d1bd4838bed897a4a033789f",
            "placeholder": "​",
            "style": "IPY_MODEL_e2c4e609d835441ea6d50223656609ef",
            "value": "100%"
          }
        },
        "102dad2497ad4ef09c82f3f402048eb4": {
          "model_module": "@jupyter-widgets/controls",
          "model_name": "FloatProgressModel",
          "model_module_version": "1.5.0",
          "state": {
            "_dom_classes": [],
            "_model_module": "@jupyter-widgets/controls",
            "_model_module_version": "1.5.0",
            "_model_name": "FloatProgressModel",
            "_view_count": null,
            "_view_module": "@jupyter-widgets/controls",
            "_view_module_version": "1.5.0",
            "_view_name": "ProgressView",
            "bar_style": "success",
            "description": "",
            "description_tooltip": null,
            "layout": "IPY_MODEL_fc845fa45bf74a84acffc402ad4da5fb",
            "max": 1,
            "min": 0,
            "orientation": "horizontal",
            "style": "IPY_MODEL_3f60a3ec3ce149aab9b92dfc6cf1de0d",
            "value": 1
          }
        },
        "35d31ce72d804817a4df9ce4383e457c": {
          "model_module": "@jupyter-widgets/controls",
          "model_name": "HTMLModel",
          "model_module_version": "1.5.0",
          "state": {
            "_dom_classes": [],
            "_model_module": "@jupyter-widgets/controls",
            "_model_module_version": "1.5.0",
            "_model_name": "HTMLModel",
            "_view_count": null,
            "_view_module": "@jupyter-widgets/controls",
            "_view_module_version": "1.5.0",
            "_view_name": "HTMLView",
            "description": "",
            "description_tooltip": null,
            "layout": "IPY_MODEL_bf433b0d13b14089bcf8a91c34dce2a0",
            "placeholder": "​",
            "style": "IPY_MODEL_9526e81b131c4b019cec8ee4aee3f3cc",
            "value": " 1/1 [00:00&lt;00:00,  6.86it/s]"
          }
        },
        "f9a8733fab62445fa97fa7c8a6ea8bbe": {
          "model_module": "@jupyter-widgets/base",
          "model_name": "LayoutModel",
          "model_module_version": "1.2.0",
          "state": {
            "_model_module": "@jupyter-widgets/base",
            "_model_module_version": "1.2.0",
            "_model_name": "LayoutModel",
            "_view_count": null,
            "_view_module": "@jupyter-widgets/base",
            "_view_module_version": "1.2.0",
            "_view_name": "LayoutView",
            "align_content": null,
            "align_items": null,
            "align_self": null,
            "border": null,
            "bottom": null,
            "display": null,
            "flex": null,
            "flex_flow": null,
            "grid_area": null,
            "grid_auto_columns": null,
            "grid_auto_flow": null,
            "grid_auto_rows": null,
            "grid_column": null,
            "grid_gap": null,
            "grid_row": null,
            "grid_template_areas": null,
            "grid_template_columns": null,
            "grid_template_rows": null,
            "height": null,
            "justify_content": null,
            "justify_items": null,
            "left": null,
            "margin": null,
            "max_height": null,
            "max_width": null,
            "min_height": null,
            "min_width": null,
            "object_fit": null,
            "object_position": null,
            "order": null,
            "overflow": null,
            "overflow_x": null,
            "overflow_y": null,
            "padding": null,
            "right": null,
            "top": null,
            "visibility": null,
            "width": null
          }
        },
        "d20df7c5d1bd4838bed897a4a033789f": {
          "model_module": "@jupyter-widgets/base",
          "model_name": "LayoutModel",
          "model_module_version": "1.2.0",
          "state": {
            "_model_module": "@jupyter-widgets/base",
            "_model_module_version": "1.2.0",
            "_model_name": "LayoutModel",
            "_view_count": null,
            "_view_module": "@jupyter-widgets/base",
            "_view_module_version": "1.2.0",
            "_view_name": "LayoutView",
            "align_content": null,
            "align_items": null,
            "align_self": null,
            "border": null,
            "bottom": null,
            "display": null,
            "flex": null,
            "flex_flow": null,
            "grid_area": null,
            "grid_auto_columns": null,
            "grid_auto_flow": null,
            "grid_auto_rows": null,
            "grid_column": null,
            "grid_gap": null,
            "grid_row": null,
            "grid_template_areas": null,
            "grid_template_columns": null,
            "grid_template_rows": null,
            "height": null,
            "justify_content": null,
            "justify_items": null,
            "left": null,
            "margin": null,
            "max_height": null,
            "max_width": null,
            "min_height": null,
            "min_width": null,
            "object_fit": null,
            "object_position": null,
            "order": null,
            "overflow": null,
            "overflow_x": null,
            "overflow_y": null,
            "padding": null,
            "right": null,
            "top": null,
            "visibility": null,
            "width": null
          }
        },
        "e2c4e609d835441ea6d50223656609ef": {
          "model_module": "@jupyter-widgets/controls",
          "model_name": "DescriptionStyleModel",
          "model_module_version": "1.5.0",
          "state": {
            "_model_module": "@jupyter-widgets/controls",
            "_model_module_version": "1.5.0",
            "_model_name": "DescriptionStyleModel",
            "_view_count": null,
            "_view_module": "@jupyter-widgets/base",
            "_view_module_version": "1.2.0",
            "_view_name": "StyleView",
            "description_width": ""
          }
        },
        "fc845fa45bf74a84acffc402ad4da5fb": {
          "model_module": "@jupyter-widgets/base",
          "model_name": "LayoutModel",
          "model_module_version": "1.2.0",
          "state": {
            "_model_module": "@jupyter-widgets/base",
            "_model_module_version": "1.2.0",
            "_model_name": "LayoutModel",
            "_view_count": null,
            "_view_module": "@jupyter-widgets/base",
            "_view_module_version": "1.2.0",
            "_view_name": "LayoutView",
            "align_content": null,
            "align_items": null,
            "align_self": null,
            "border": null,
            "bottom": null,
            "display": null,
            "flex": null,
            "flex_flow": null,
            "grid_area": null,
            "grid_auto_columns": null,
            "grid_auto_flow": null,
            "grid_auto_rows": null,
            "grid_column": null,
            "grid_gap": null,
            "grid_row": null,
            "grid_template_areas": null,
            "grid_template_columns": null,
            "grid_template_rows": null,
            "height": null,
            "justify_content": null,
            "justify_items": null,
            "left": null,
            "margin": null,
            "max_height": null,
            "max_width": null,
            "min_height": null,
            "min_width": null,
            "object_fit": null,
            "object_position": null,
            "order": null,
            "overflow": null,
            "overflow_x": null,
            "overflow_y": null,
            "padding": null,
            "right": null,
            "top": null,
            "visibility": null,
            "width": null
          }
        },
        "3f60a3ec3ce149aab9b92dfc6cf1de0d": {
          "model_module": "@jupyter-widgets/controls",
          "model_name": "ProgressStyleModel",
          "model_module_version": "1.5.0",
          "state": {
            "_model_module": "@jupyter-widgets/controls",
            "_model_module_version": "1.5.0",
            "_model_name": "ProgressStyleModel",
            "_view_count": null,
            "_view_module": "@jupyter-widgets/base",
            "_view_module_version": "1.2.0",
            "_view_name": "StyleView",
            "bar_color": null,
            "description_width": ""
          }
        },
        "bf433b0d13b14089bcf8a91c34dce2a0": {
          "model_module": "@jupyter-widgets/base",
          "model_name": "LayoutModel",
          "model_module_version": "1.2.0",
          "state": {
            "_model_module": "@jupyter-widgets/base",
            "_model_module_version": "1.2.0",
            "_model_name": "LayoutModel",
            "_view_count": null,
            "_view_module": "@jupyter-widgets/base",
            "_view_module_version": "1.2.0",
            "_view_name": "LayoutView",
            "align_content": null,
            "align_items": null,
            "align_self": null,
            "border": null,
            "bottom": null,
            "display": null,
            "flex": null,
            "flex_flow": null,
            "grid_area": null,
            "grid_auto_columns": null,
            "grid_auto_flow": null,
            "grid_auto_rows": null,
            "grid_column": null,
            "grid_gap": null,
            "grid_row": null,
            "grid_template_areas": null,
            "grid_template_columns": null,
            "grid_template_rows": null,
            "height": null,
            "justify_content": null,
            "justify_items": null,
            "left": null,
            "margin": null,
            "max_height": null,
            "max_width": null,
            "min_height": null,
            "min_width": null,
            "object_fit": null,
            "object_position": null,
            "order": null,
            "overflow": null,
            "overflow_x": null,
            "overflow_y": null,
            "padding": null,
            "right": null,
            "top": null,
            "visibility": null,
            "width": null
          }
        },
        "9526e81b131c4b019cec8ee4aee3f3cc": {
          "model_module": "@jupyter-widgets/controls",
          "model_name": "DescriptionStyleModel",
          "model_module_version": "1.5.0",
          "state": {
            "_model_module": "@jupyter-widgets/controls",
            "_model_module_version": "1.5.0",
            "_model_name": "DescriptionStyleModel",
            "_view_count": null,
            "_view_module": "@jupyter-widgets/base",
            "_view_module_version": "1.2.0",
            "_view_name": "StyleView",
            "description_width": ""
          }
        },
        "1e3ef8a0870b4140b7058e3956866657": {
          "model_module": "@jupyter-widgets/controls",
          "model_name": "HBoxModel",
          "model_module_version": "1.5.0",
          "state": {
            "_dom_classes": [],
            "_model_module": "@jupyter-widgets/controls",
            "_model_module_version": "1.5.0",
            "_model_name": "HBoxModel",
            "_view_count": null,
            "_view_module": "@jupyter-widgets/controls",
            "_view_module_version": "1.5.0",
            "_view_name": "HBoxView",
            "box_style": "",
            "children": [
              "IPY_MODEL_844ea600eb9c4daf8ae51ff2956a3096",
              "IPY_MODEL_aaca43a58467482187cbdbf33a82ebf9",
              "IPY_MODEL_12281938a03a4d189e59b9b30410bd26"
            ],
            "layout": "IPY_MODEL_257097c1ced4484d8fe040afaea35d6d"
          }
        },
        "844ea600eb9c4daf8ae51ff2956a3096": {
          "model_module": "@jupyter-widgets/controls",
          "model_name": "HTMLModel",
          "model_module_version": "1.5.0",
          "state": {
            "_dom_classes": [],
            "_model_module": "@jupyter-widgets/controls",
            "_model_module_version": "1.5.0",
            "_model_name": "HTMLModel",
            "_view_count": null,
            "_view_module": "@jupyter-widgets/controls",
            "_view_module_version": "1.5.0",
            "_view_name": "HTMLView",
            "description": "",
            "description_tooltip": null,
            "layout": "IPY_MODEL_ffef34196c3f45f18a7e78ad23762446",
            "placeholder": "​",
            "style": "IPY_MODEL_05274b72943a443db90ffc74a5c283cd",
            "value": "Downloading: 100%"
          }
        },
        "aaca43a58467482187cbdbf33a82ebf9": {
          "model_module": "@jupyter-widgets/controls",
          "model_name": "FloatProgressModel",
          "model_module_version": "1.5.0",
          "state": {
            "_dom_classes": [],
            "_model_module": "@jupyter-widgets/controls",
            "_model_module_version": "1.5.0",
            "_model_name": "FloatProgressModel",
            "_view_count": null,
            "_view_module": "@jupyter-widgets/controls",
            "_view_module_version": "1.5.0",
            "_view_name": "ProgressView",
            "bar_style": "success",
            "description": "",
            "description_tooltip": null,
            "layout": "IPY_MODEL_14f6ef0aa5f24caf96801b33eb4e8eff",
            "max": 904693,
            "min": 0,
            "orientation": "horizontal",
            "style": "IPY_MODEL_7c9478237343430ba717a6868393d740",
            "value": 904693
          }
        },
        "12281938a03a4d189e59b9b30410bd26": {
          "model_module": "@jupyter-widgets/controls",
          "model_name": "HTMLModel",
          "model_module_version": "1.5.0",
          "state": {
            "_dom_classes": [],
            "_model_module": "@jupyter-widgets/controls",
            "_model_module_version": "1.5.0",
            "_model_name": "HTMLModel",
            "_view_count": null,
            "_view_module": "@jupyter-widgets/controls",
            "_view_module_version": "1.5.0",
            "_view_name": "HTMLView",
            "description": "",
            "description_tooltip": null,
            "layout": "IPY_MODEL_754c60e9edce4be1b1c5bc29ba9162d2",
            "placeholder": "​",
            "style": "IPY_MODEL_a408e705f762416a8563c98daf7e190d",
            "value": " 883k/883k [00:00&lt;00:00, 2.27MB/s]"
          }
        },
        "257097c1ced4484d8fe040afaea35d6d": {
          "model_module": "@jupyter-widgets/base",
          "model_name": "LayoutModel",
          "model_module_version": "1.2.0",
          "state": {
            "_model_module": "@jupyter-widgets/base",
            "_model_module_version": "1.2.0",
            "_model_name": "LayoutModel",
            "_view_count": null,
            "_view_module": "@jupyter-widgets/base",
            "_view_module_version": "1.2.0",
            "_view_name": "LayoutView",
            "align_content": null,
            "align_items": null,
            "align_self": null,
            "border": null,
            "bottom": null,
            "display": null,
            "flex": null,
            "flex_flow": null,
            "grid_area": null,
            "grid_auto_columns": null,
            "grid_auto_flow": null,
            "grid_auto_rows": null,
            "grid_column": null,
            "grid_gap": null,
            "grid_row": null,
            "grid_template_areas": null,
            "grid_template_columns": null,
            "grid_template_rows": null,
            "height": null,
            "justify_content": null,
            "justify_items": null,
            "left": null,
            "margin": null,
            "max_height": null,
            "max_width": null,
            "min_height": null,
            "min_width": null,
            "object_fit": null,
            "object_position": null,
            "order": null,
            "overflow": null,
            "overflow_x": null,
            "overflow_y": null,
            "padding": null,
            "right": null,
            "top": null,
            "visibility": null,
            "width": null
          }
        },
        "ffef34196c3f45f18a7e78ad23762446": {
          "model_module": "@jupyter-widgets/base",
          "model_name": "LayoutModel",
          "model_module_version": "1.2.0",
          "state": {
            "_model_module": "@jupyter-widgets/base",
            "_model_module_version": "1.2.0",
            "_model_name": "LayoutModel",
            "_view_count": null,
            "_view_module": "@jupyter-widgets/base",
            "_view_module_version": "1.2.0",
            "_view_name": "LayoutView",
            "align_content": null,
            "align_items": null,
            "align_self": null,
            "border": null,
            "bottom": null,
            "display": null,
            "flex": null,
            "flex_flow": null,
            "grid_area": null,
            "grid_auto_columns": null,
            "grid_auto_flow": null,
            "grid_auto_rows": null,
            "grid_column": null,
            "grid_gap": null,
            "grid_row": null,
            "grid_template_areas": null,
            "grid_template_columns": null,
            "grid_template_rows": null,
            "height": null,
            "justify_content": null,
            "justify_items": null,
            "left": null,
            "margin": null,
            "max_height": null,
            "max_width": null,
            "min_height": null,
            "min_width": null,
            "object_fit": null,
            "object_position": null,
            "order": null,
            "overflow": null,
            "overflow_x": null,
            "overflow_y": null,
            "padding": null,
            "right": null,
            "top": null,
            "visibility": null,
            "width": null
          }
        },
        "05274b72943a443db90ffc74a5c283cd": {
          "model_module": "@jupyter-widgets/controls",
          "model_name": "DescriptionStyleModel",
          "model_module_version": "1.5.0",
          "state": {
            "_model_module": "@jupyter-widgets/controls",
            "_model_module_version": "1.5.0",
            "_model_name": "DescriptionStyleModel",
            "_view_count": null,
            "_view_module": "@jupyter-widgets/base",
            "_view_module_version": "1.2.0",
            "_view_name": "StyleView",
            "description_width": ""
          }
        },
        "14f6ef0aa5f24caf96801b33eb4e8eff": {
          "model_module": "@jupyter-widgets/base",
          "model_name": "LayoutModel",
          "model_module_version": "1.2.0",
          "state": {
            "_model_module": "@jupyter-widgets/base",
            "_model_module_version": "1.2.0",
            "_model_name": "LayoutModel",
            "_view_count": null,
            "_view_module": "@jupyter-widgets/base",
            "_view_module_version": "1.2.0",
            "_view_name": "LayoutView",
            "align_content": null,
            "align_items": null,
            "align_self": null,
            "border": null,
            "bottom": null,
            "display": null,
            "flex": null,
            "flex_flow": null,
            "grid_area": null,
            "grid_auto_columns": null,
            "grid_auto_flow": null,
            "grid_auto_rows": null,
            "grid_column": null,
            "grid_gap": null,
            "grid_row": null,
            "grid_template_areas": null,
            "grid_template_columns": null,
            "grid_template_rows": null,
            "height": null,
            "justify_content": null,
            "justify_items": null,
            "left": null,
            "margin": null,
            "max_height": null,
            "max_width": null,
            "min_height": null,
            "min_width": null,
            "object_fit": null,
            "object_position": null,
            "order": null,
            "overflow": null,
            "overflow_x": null,
            "overflow_y": null,
            "padding": null,
            "right": null,
            "top": null,
            "visibility": null,
            "width": null
          }
        },
        "7c9478237343430ba717a6868393d740": {
          "model_module": "@jupyter-widgets/controls",
          "model_name": "ProgressStyleModel",
          "model_module_version": "1.5.0",
          "state": {
            "_model_module": "@jupyter-widgets/controls",
            "_model_module_version": "1.5.0",
            "_model_name": "ProgressStyleModel",
            "_view_count": null,
            "_view_module": "@jupyter-widgets/base",
            "_view_module_version": "1.2.0",
            "_view_name": "StyleView",
            "bar_color": null,
            "description_width": ""
          }
        },
        "754c60e9edce4be1b1c5bc29ba9162d2": {
          "model_module": "@jupyter-widgets/base",
          "model_name": "LayoutModel",
          "model_module_version": "1.2.0",
          "state": {
            "_model_module": "@jupyter-widgets/base",
            "_model_module_version": "1.2.0",
            "_model_name": "LayoutModel",
            "_view_count": null,
            "_view_module": "@jupyter-widgets/base",
            "_view_module_version": "1.2.0",
            "_view_name": "LayoutView",
            "align_content": null,
            "align_items": null,
            "align_self": null,
            "border": null,
            "bottom": null,
            "display": null,
            "flex": null,
            "flex_flow": null,
            "grid_area": null,
            "grid_auto_columns": null,
            "grid_auto_flow": null,
            "grid_auto_rows": null,
            "grid_column": null,
            "grid_gap": null,
            "grid_row": null,
            "grid_template_areas": null,
            "grid_template_columns": null,
            "grid_template_rows": null,
            "height": null,
            "justify_content": null,
            "justify_items": null,
            "left": null,
            "margin": null,
            "max_height": null,
            "max_width": null,
            "min_height": null,
            "min_width": null,
            "object_fit": null,
            "object_position": null,
            "order": null,
            "overflow": null,
            "overflow_x": null,
            "overflow_y": null,
            "padding": null,
            "right": null,
            "top": null,
            "visibility": null,
            "width": null
          }
        },
        "a408e705f762416a8563c98daf7e190d": {
          "model_module": "@jupyter-widgets/controls",
          "model_name": "DescriptionStyleModel",
          "model_module_version": "1.5.0",
          "state": {
            "_model_module": "@jupyter-widgets/controls",
            "_model_module_version": "1.5.0",
            "_model_name": "DescriptionStyleModel",
            "_view_count": null,
            "_view_module": "@jupyter-widgets/base",
            "_view_module_version": "1.2.0",
            "_view_name": "StyleView",
            "description_width": ""
          }
        },
        "f863c4facd3d49e287ede7d57d9cd927": {
          "model_module": "@jupyter-widgets/controls",
          "model_name": "HBoxModel",
          "model_module_version": "1.5.0",
          "state": {
            "_dom_classes": [],
            "_model_module": "@jupyter-widgets/controls",
            "_model_module_version": "1.5.0",
            "_model_name": "HBoxModel",
            "_view_count": null,
            "_view_module": "@jupyter-widgets/controls",
            "_view_module_version": "1.5.0",
            "_view_name": "HBoxView",
            "box_style": "",
            "children": [
              "IPY_MODEL_97c85a740fae4effb1bbbada9b665b25",
              "IPY_MODEL_8ea728f5151a42fa899b8b4b311f98bc",
              "IPY_MODEL_f8392e663ec4453a91decb4be5814574"
            ],
            "layout": "IPY_MODEL_3762ae88e061406f9d46ec2bab9b6741"
          }
        },
        "97c85a740fae4effb1bbbada9b665b25": {
          "model_module": "@jupyter-widgets/controls",
          "model_name": "HTMLModel",
          "model_module_version": "1.5.0",
          "state": {
            "_dom_classes": [],
            "_model_module": "@jupyter-widgets/controls",
            "_model_module_version": "1.5.0",
            "_model_name": "HTMLModel",
            "_view_count": null,
            "_view_module": "@jupyter-widgets/controls",
            "_view_module_version": "1.5.0",
            "_view_name": "HTMLView",
            "description": "",
            "description_tooltip": null,
            "layout": "IPY_MODEL_c0ae02503f9a4a73b3c112b6f8306f4b",
            "placeholder": "​",
            "style": "IPY_MODEL_faacc429370847ca8e5cbf5ca716a028",
            "value": "Downloading: 100%"
          }
        },
        "8ea728f5151a42fa899b8b4b311f98bc": {
          "model_module": "@jupyter-widgets/controls",
          "model_name": "FloatProgressModel",
          "model_module_version": "1.5.0",
          "state": {
            "_dom_classes": [],
            "_model_module": "@jupyter-widgets/controls",
            "_model_module_version": "1.5.0",
            "_model_name": "FloatProgressModel",
            "_view_count": null,
            "_view_module": "@jupyter-widgets/controls",
            "_view_module_version": "1.5.0",
            "_view_name": "ProgressView",
            "bar_style": "success",
            "description": "",
            "description_tooltip": null,
            "layout": "IPY_MODEL_7cb3b6021f9c48b3bb05fb208e116fef",
            "max": 282,
            "min": 0,
            "orientation": "horizontal",
            "style": "IPY_MODEL_ff494bf1c3134a739be7889c49afe453",
            "value": 282
          }
        },
        "f8392e663ec4453a91decb4be5814574": {
          "model_module": "@jupyter-widgets/controls",
          "model_name": "HTMLModel",
          "model_module_version": "1.5.0",
          "state": {
            "_dom_classes": [],
            "_model_module": "@jupyter-widgets/controls",
            "_model_module_version": "1.5.0",
            "_model_name": "HTMLModel",
            "_view_count": null,
            "_view_module": "@jupyter-widgets/controls",
            "_view_module_version": "1.5.0",
            "_view_name": "HTMLView",
            "description": "",
            "description_tooltip": null,
            "layout": "IPY_MODEL_8321886df761480d825e882596e012ff",
            "placeholder": "​",
            "style": "IPY_MODEL_a2674599da0f4a36a211f83e6ee39880",
            "value": " 282/282 [00:00&lt;00:00, 6.88kB/s]"
          }
        },
        "3762ae88e061406f9d46ec2bab9b6741": {
          "model_module": "@jupyter-widgets/base",
          "model_name": "LayoutModel",
          "model_module_version": "1.2.0",
          "state": {
            "_model_module": "@jupyter-widgets/base",
            "_model_module_version": "1.2.0",
            "_model_name": "LayoutModel",
            "_view_count": null,
            "_view_module": "@jupyter-widgets/base",
            "_view_module_version": "1.2.0",
            "_view_name": "LayoutView",
            "align_content": null,
            "align_items": null,
            "align_self": null,
            "border": null,
            "bottom": null,
            "display": null,
            "flex": null,
            "flex_flow": null,
            "grid_area": null,
            "grid_auto_columns": null,
            "grid_auto_flow": null,
            "grid_auto_rows": null,
            "grid_column": null,
            "grid_gap": null,
            "grid_row": null,
            "grid_template_areas": null,
            "grid_template_columns": null,
            "grid_template_rows": null,
            "height": null,
            "justify_content": null,
            "justify_items": null,
            "left": null,
            "margin": null,
            "max_height": null,
            "max_width": null,
            "min_height": null,
            "min_width": null,
            "object_fit": null,
            "object_position": null,
            "order": null,
            "overflow": null,
            "overflow_x": null,
            "overflow_y": null,
            "padding": null,
            "right": null,
            "top": null,
            "visibility": null,
            "width": null
          }
        },
        "c0ae02503f9a4a73b3c112b6f8306f4b": {
          "model_module": "@jupyter-widgets/base",
          "model_name": "LayoutModel",
          "model_module_version": "1.2.0",
          "state": {
            "_model_module": "@jupyter-widgets/base",
            "_model_module_version": "1.2.0",
            "_model_name": "LayoutModel",
            "_view_count": null,
            "_view_module": "@jupyter-widgets/base",
            "_view_module_version": "1.2.0",
            "_view_name": "LayoutView",
            "align_content": null,
            "align_items": null,
            "align_self": null,
            "border": null,
            "bottom": null,
            "display": null,
            "flex": null,
            "flex_flow": null,
            "grid_area": null,
            "grid_auto_columns": null,
            "grid_auto_flow": null,
            "grid_auto_rows": null,
            "grid_column": null,
            "grid_gap": null,
            "grid_row": null,
            "grid_template_areas": null,
            "grid_template_columns": null,
            "grid_template_rows": null,
            "height": null,
            "justify_content": null,
            "justify_items": null,
            "left": null,
            "margin": null,
            "max_height": null,
            "max_width": null,
            "min_height": null,
            "min_width": null,
            "object_fit": null,
            "object_position": null,
            "order": null,
            "overflow": null,
            "overflow_x": null,
            "overflow_y": null,
            "padding": null,
            "right": null,
            "top": null,
            "visibility": null,
            "width": null
          }
        },
        "faacc429370847ca8e5cbf5ca716a028": {
          "model_module": "@jupyter-widgets/controls",
          "model_name": "DescriptionStyleModel",
          "model_module_version": "1.5.0",
          "state": {
            "_model_module": "@jupyter-widgets/controls",
            "_model_module_version": "1.5.0",
            "_model_name": "DescriptionStyleModel",
            "_view_count": null,
            "_view_module": "@jupyter-widgets/base",
            "_view_module_version": "1.2.0",
            "_view_name": "StyleView",
            "description_width": ""
          }
        },
        "7cb3b6021f9c48b3bb05fb208e116fef": {
          "model_module": "@jupyter-widgets/base",
          "model_name": "LayoutModel",
          "model_module_version": "1.2.0",
          "state": {
            "_model_module": "@jupyter-widgets/base",
            "_model_module_version": "1.2.0",
            "_model_name": "LayoutModel",
            "_view_count": null,
            "_view_module": "@jupyter-widgets/base",
            "_view_module_version": "1.2.0",
            "_view_name": "LayoutView",
            "align_content": null,
            "align_items": null,
            "align_self": null,
            "border": null,
            "bottom": null,
            "display": null,
            "flex": null,
            "flex_flow": null,
            "grid_area": null,
            "grid_auto_columns": null,
            "grid_auto_flow": null,
            "grid_auto_rows": null,
            "grid_column": null,
            "grid_gap": null,
            "grid_row": null,
            "grid_template_areas": null,
            "grid_template_columns": null,
            "grid_template_rows": null,
            "height": null,
            "justify_content": null,
            "justify_items": null,
            "left": null,
            "margin": null,
            "max_height": null,
            "max_width": null,
            "min_height": null,
            "min_width": null,
            "object_fit": null,
            "object_position": null,
            "order": null,
            "overflow": null,
            "overflow_x": null,
            "overflow_y": null,
            "padding": null,
            "right": null,
            "top": null,
            "visibility": null,
            "width": null
          }
        },
        "ff494bf1c3134a739be7889c49afe453": {
          "model_module": "@jupyter-widgets/controls",
          "model_name": "ProgressStyleModel",
          "model_module_version": "1.5.0",
          "state": {
            "_model_module": "@jupyter-widgets/controls",
            "_model_module_version": "1.5.0",
            "_model_name": "ProgressStyleModel",
            "_view_count": null,
            "_view_module": "@jupyter-widgets/base",
            "_view_module_version": "1.2.0",
            "_view_name": "StyleView",
            "bar_color": null,
            "description_width": ""
          }
        },
        "8321886df761480d825e882596e012ff": {
          "model_module": "@jupyter-widgets/base",
          "model_name": "LayoutModel",
          "model_module_version": "1.2.0",
          "state": {
            "_model_module": "@jupyter-widgets/base",
            "_model_module_version": "1.2.0",
            "_model_name": "LayoutModel",
            "_view_count": null,
            "_view_module": "@jupyter-widgets/base",
            "_view_module_version": "1.2.0",
            "_view_name": "LayoutView",
            "align_content": null,
            "align_items": null,
            "align_self": null,
            "border": null,
            "bottom": null,
            "display": null,
            "flex": null,
            "flex_flow": null,
            "grid_area": null,
            "grid_auto_columns": null,
            "grid_auto_flow": null,
            "grid_auto_rows": null,
            "grid_column": null,
            "grid_gap": null,
            "grid_row": null,
            "grid_template_areas": null,
            "grid_template_columns": null,
            "grid_template_rows": null,
            "height": null,
            "justify_content": null,
            "justify_items": null,
            "left": null,
            "margin": null,
            "max_height": null,
            "max_width": null,
            "min_height": null,
            "min_width": null,
            "object_fit": null,
            "object_position": null,
            "order": null,
            "overflow": null,
            "overflow_x": null,
            "overflow_y": null,
            "padding": null,
            "right": null,
            "top": null,
            "visibility": null,
            "width": null
          }
        },
        "a2674599da0f4a36a211f83e6ee39880": {
          "model_module": "@jupyter-widgets/controls",
          "model_name": "DescriptionStyleModel",
          "model_module_version": "1.5.0",
          "state": {
            "_model_module": "@jupyter-widgets/controls",
            "_model_module_version": "1.5.0",
            "_model_name": "DescriptionStyleModel",
            "_view_count": null,
            "_view_module": "@jupyter-widgets/base",
            "_view_module_version": "1.2.0",
            "_view_name": "StyleView",
            "description_width": ""
          }
        },
        "61796c2543c6483aaa551c58e6eb13dc": {
          "model_module": "@jupyter-widgets/controls",
          "model_name": "HBoxModel",
          "model_module_version": "1.5.0",
          "state": {
            "_dom_classes": [],
            "_model_module": "@jupyter-widgets/controls",
            "_model_module_version": "1.5.0",
            "_model_name": "HBoxModel",
            "_view_count": null,
            "_view_module": "@jupyter-widgets/controls",
            "_view_module_version": "1.5.0",
            "_view_name": "HBoxView",
            "box_style": "",
            "children": [
              "IPY_MODEL_af1bf8c45fc04966b898a92d2b53578c",
              "IPY_MODEL_3c5bf322fd0b4d3b8d909e0d55ec14cd",
              "IPY_MODEL_733729d68e8b422d82f166b361e50113"
            ],
            "layout": "IPY_MODEL_4ba95fa351534722a7516d42e29ca5f8"
          }
        },
        "af1bf8c45fc04966b898a92d2b53578c": {
          "model_module": "@jupyter-widgets/controls",
          "model_name": "HTMLModel",
          "model_module_version": "1.5.0",
          "state": {
            "_dom_classes": [],
            "_model_module": "@jupyter-widgets/controls",
            "_model_module_version": "1.5.0",
            "_model_name": "HTMLModel",
            "_view_count": null,
            "_view_module": "@jupyter-widgets/controls",
            "_view_module_version": "1.5.0",
            "_view_name": "HTMLView",
            "description": "",
            "description_tooltip": null,
            "layout": "IPY_MODEL_3c95fc2ecb8b40f59acb6b2213b35b01",
            "placeholder": "​",
            "style": "IPY_MODEL_a0d4bc2fc4f145d49abd57a0eeac81a8",
            "value": "Downloading: 100%"
          }
        },
        "3c5bf322fd0b4d3b8d909e0d55ec14cd": {
          "model_module": "@jupyter-widgets/controls",
          "model_name": "FloatProgressModel",
          "model_module_version": "1.5.0",
          "state": {
            "_dom_classes": [],
            "_model_module": "@jupyter-widgets/controls",
            "_model_module_version": "1.5.0",
            "_model_name": "FloatProgressModel",
            "_view_count": null,
            "_view_module": "@jupyter-widgets/controls",
            "_view_module_version": "1.5.0",
            "_view_name": "ProgressView",
            "bar_style": "success",
            "description": "",
            "description_tooltip": null,
            "layout": "IPY_MODEL_494f9f554cb048ed9be4e7a7669b90dc",
            "max": 546,
            "min": 0,
            "orientation": "horizontal",
            "style": "IPY_MODEL_6f012738c95f461caf289bf4229d9502",
            "value": 546
          }
        },
        "733729d68e8b422d82f166b361e50113": {
          "model_module": "@jupyter-widgets/controls",
          "model_name": "HTMLModel",
          "model_module_version": "1.5.0",
          "state": {
            "_dom_classes": [],
            "_model_module": "@jupyter-widgets/controls",
            "_model_module_version": "1.5.0",
            "_model_name": "HTMLModel",
            "_view_count": null,
            "_view_module": "@jupyter-widgets/controls",
            "_view_module_version": "1.5.0",
            "_view_name": "HTMLView",
            "description": "",
            "description_tooltip": null,
            "layout": "IPY_MODEL_60cb529a31da4d3898d5cc622a9cb59b",
            "placeholder": "​",
            "style": "IPY_MODEL_cf02ae5bc6704ed0bf9534602dbb3fc7",
            "value": " 546/546 [00:00&lt;00:00, 12.1kB/s]"
          }
        },
        "4ba95fa351534722a7516d42e29ca5f8": {
          "model_module": "@jupyter-widgets/base",
          "model_name": "LayoutModel",
          "model_module_version": "1.2.0",
          "state": {
            "_model_module": "@jupyter-widgets/base",
            "_model_module_version": "1.2.0",
            "_model_name": "LayoutModel",
            "_view_count": null,
            "_view_module": "@jupyter-widgets/base",
            "_view_module_version": "1.2.0",
            "_view_name": "LayoutView",
            "align_content": null,
            "align_items": null,
            "align_self": null,
            "border": null,
            "bottom": null,
            "display": null,
            "flex": null,
            "flex_flow": null,
            "grid_area": null,
            "grid_auto_columns": null,
            "grid_auto_flow": null,
            "grid_auto_rows": null,
            "grid_column": null,
            "grid_gap": null,
            "grid_row": null,
            "grid_template_areas": null,
            "grid_template_columns": null,
            "grid_template_rows": null,
            "height": null,
            "justify_content": null,
            "justify_items": null,
            "left": null,
            "margin": null,
            "max_height": null,
            "max_width": null,
            "min_height": null,
            "min_width": null,
            "object_fit": null,
            "object_position": null,
            "order": null,
            "overflow": null,
            "overflow_x": null,
            "overflow_y": null,
            "padding": null,
            "right": null,
            "top": null,
            "visibility": null,
            "width": null
          }
        },
        "3c95fc2ecb8b40f59acb6b2213b35b01": {
          "model_module": "@jupyter-widgets/base",
          "model_name": "LayoutModel",
          "model_module_version": "1.2.0",
          "state": {
            "_model_module": "@jupyter-widgets/base",
            "_model_module_version": "1.2.0",
            "_model_name": "LayoutModel",
            "_view_count": null,
            "_view_module": "@jupyter-widgets/base",
            "_view_module_version": "1.2.0",
            "_view_name": "LayoutView",
            "align_content": null,
            "align_items": null,
            "align_self": null,
            "border": null,
            "bottom": null,
            "display": null,
            "flex": null,
            "flex_flow": null,
            "grid_area": null,
            "grid_auto_columns": null,
            "grid_auto_flow": null,
            "grid_auto_rows": null,
            "grid_column": null,
            "grid_gap": null,
            "grid_row": null,
            "grid_template_areas": null,
            "grid_template_columns": null,
            "grid_template_rows": null,
            "height": null,
            "justify_content": null,
            "justify_items": null,
            "left": null,
            "margin": null,
            "max_height": null,
            "max_width": null,
            "min_height": null,
            "min_width": null,
            "object_fit": null,
            "object_position": null,
            "order": null,
            "overflow": null,
            "overflow_x": null,
            "overflow_y": null,
            "padding": null,
            "right": null,
            "top": null,
            "visibility": null,
            "width": null
          }
        },
        "a0d4bc2fc4f145d49abd57a0eeac81a8": {
          "model_module": "@jupyter-widgets/controls",
          "model_name": "DescriptionStyleModel",
          "model_module_version": "1.5.0",
          "state": {
            "_model_module": "@jupyter-widgets/controls",
            "_model_module_version": "1.5.0",
            "_model_name": "DescriptionStyleModel",
            "_view_count": null,
            "_view_module": "@jupyter-widgets/base",
            "_view_module_version": "1.2.0",
            "_view_name": "StyleView",
            "description_width": ""
          }
        },
        "494f9f554cb048ed9be4e7a7669b90dc": {
          "model_module": "@jupyter-widgets/base",
          "model_name": "LayoutModel",
          "model_module_version": "1.2.0",
          "state": {
            "_model_module": "@jupyter-widgets/base",
            "_model_module_version": "1.2.0",
            "_model_name": "LayoutModel",
            "_view_count": null,
            "_view_module": "@jupyter-widgets/base",
            "_view_module_version": "1.2.0",
            "_view_name": "LayoutView",
            "align_content": null,
            "align_items": null,
            "align_self": null,
            "border": null,
            "bottom": null,
            "display": null,
            "flex": null,
            "flex_flow": null,
            "grid_area": null,
            "grid_auto_columns": null,
            "grid_auto_flow": null,
            "grid_auto_rows": null,
            "grid_column": null,
            "grid_gap": null,
            "grid_row": null,
            "grid_template_areas": null,
            "grid_template_columns": null,
            "grid_template_rows": null,
            "height": null,
            "justify_content": null,
            "justify_items": null,
            "left": null,
            "margin": null,
            "max_height": null,
            "max_width": null,
            "min_height": null,
            "min_width": null,
            "object_fit": null,
            "object_position": null,
            "order": null,
            "overflow": null,
            "overflow_x": null,
            "overflow_y": null,
            "padding": null,
            "right": null,
            "top": null,
            "visibility": null,
            "width": null
          }
        },
        "6f012738c95f461caf289bf4229d9502": {
          "model_module": "@jupyter-widgets/controls",
          "model_name": "ProgressStyleModel",
          "model_module_version": "1.5.0",
          "state": {
            "_model_module": "@jupyter-widgets/controls",
            "_model_module_version": "1.5.0",
            "_model_name": "ProgressStyleModel",
            "_view_count": null,
            "_view_module": "@jupyter-widgets/base",
            "_view_module_version": "1.2.0",
            "_view_name": "StyleView",
            "bar_color": null,
            "description_width": ""
          }
        },
        "60cb529a31da4d3898d5cc622a9cb59b": {
          "model_module": "@jupyter-widgets/base",
          "model_name": "LayoutModel",
          "model_module_version": "1.2.0",
          "state": {
            "_model_module": "@jupyter-widgets/base",
            "_model_module_version": "1.2.0",
            "_model_name": "LayoutModel",
            "_view_count": null,
            "_view_module": "@jupyter-widgets/base",
            "_view_module_version": "1.2.0",
            "_view_name": "LayoutView",
            "align_content": null,
            "align_items": null,
            "align_self": null,
            "border": null,
            "bottom": null,
            "display": null,
            "flex": null,
            "flex_flow": null,
            "grid_area": null,
            "grid_auto_columns": null,
            "grid_auto_flow": null,
            "grid_auto_rows": null,
            "grid_column": null,
            "grid_gap": null,
            "grid_row": null,
            "grid_template_areas": null,
            "grid_template_columns": null,
            "grid_template_rows": null,
            "height": null,
            "justify_content": null,
            "justify_items": null,
            "left": null,
            "margin": null,
            "max_height": null,
            "max_width": null,
            "min_height": null,
            "min_width": null,
            "object_fit": null,
            "object_position": null,
            "order": null,
            "overflow": null,
            "overflow_x": null,
            "overflow_y": null,
            "padding": null,
            "right": null,
            "top": null,
            "visibility": null,
            "width": null
          }
        },
        "cf02ae5bc6704ed0bf9534602dbb3fc7": {
          "model_module": "@jupyter-widgets/controls",
          "model_name": "DescriptionStyleModel",
          "model_module_version": "1.5.0",
          "state": {
            "_model_module": "@jupyter-widgets/controls",
            "_model_module_version": "1.5.0",
            "_model_name": "DescriptionStyleModel",
            "_view_count": null,
            "_view_module": "@jupyter-widgets/base",
            "_view_module_version": "1.2.0",
            "_view_name": "StyleView",
            "description_width": ""
          }
        },
        "c0c0e2d1ed8f436ab8bc74ace2dec598": {
          "model_module": "@jupyter-widgets/controls",
          "model_name": "HBoxModel",
          "model_module_version": "1.5.0",
          "state": {
            "_dom_classes": [],
            "_model_module": "@jupyter-widgets/controls",
            "_model_module_version": "1.5.0",
            "_model_name": "HBoxModel",
            "_view_count": null,
            "_view_module": "@jupyter-widgets/controls",
            "_view_module_version": "1.5.0",
            "_view_name": "HBoxView",
            "box_style": "",
            "children": [
              "IPY_MODEL_83264a162c424a8091ef2cd3f1eaf62b",
              "IPY_MODEL_1e3fed36aff34a02851ddd9d6d9484f8",
              "IPY_MODEL_072880f18f9a4f6b9ba1408a370ccd0b"
            ],
            "layout": "IPY_MODEL_e91a8256115347d1811e97d19e559dcc"
          }
        },
        "83264a162c424a8091ef2cd3f1eaf62b": {
          "model_module": "@jupyter-widgets/controls",
          "model_name": "HTMLModel",
          "model_module_version": "1.5.0",
          "state": {
            "_dom_classes": [],
            "_model_module": "@jupyter-widgets/controls",
            "_model_module_version": "1.5.0",
            "_model_name": "HTMLModel",
            "_view_count": null,
            "_view_module": "@jupyter-widgets/controls",
            "_view_module_version": "1.5.0",
            "_view_name": "HTMLView",
            "description": "",
            "description_tooltip": null,
            "layout": "IPY_MODEL_e9e68eb9cf9b4730aa6b59e2e1906aab",
            "placeholder": "​",
            "style": "IPY_MODEL_1ea1b5f23ea54870b07aa3a2a028ba1f",
            "value": "Downloading: 100%"
          }
        },
        "1e3fed36aff34a02851ddd9d6d9484f8": {
          "model_module": "@jupyter-widgets/controls",
          "model_name": "FloatProgressModel",
          "model_module_version": "1.5.0",
          "state": {
            "_dom_classes": [],
            "_model_module": "@jupyter-widgets/controls",
            "_model_module_version": "1.5.0",
            "_model_name": "FloatProgressModel",
            "_view_count": null,
            "_view_module": "@jupyter-widgets/controls",
            "_view_module_version": "1.5.0",
            "_view_name": "ProgressView",
            "bar_style": "success",
            "description": "",
            "description_tooltip": null,
            "layout": "IPY_MODEL_4333f226580f4f68bcec4533e78a89cd",
            "max": 1057,
            "min": 0,
            "orientation": "horizontal",
            "style": "IPY_MODEL_e7d1a643dfcd49feb6a2a8cee6f078d0",
            "value": 1057
          }
        },
        "072880f18f9a4f6b9ba1408a370ccd0b": {
          "model_module": "@jupyter-widgets/controls",
          "model_name": "HTMLModel",
          "model_module_version": "1.5.0",
          "state": {
            "_dom_classes": [],
            "_model_module": "@jupyter-widgets/controls",
            "_model_module_version": "1.5.0",
            "_model_name": "HTMLModel",
            "_view_count": null,
            "_view_module": "@jupyter-widgets/controls",
            "_view_module_version": "1.5.0",
            "_view_name": "HTMLView",
            "description": "",
            "description_tooltip": null,
            "layout": "IPY_MODEL_3ed5af8ce8ff4a08af2e39ca2ec1c00a",
            "placeholder": "​",
            "style": "IPY_MODEL_a0fb3cc38522427785af464af2fe7905",
            "value": " 1.03k/1.03k [00:00&lt;00:00, 29.7kB/s]"
          }
        },
        "e91a8256115347d1811e97d19e559dcc": {
          "model_module": "@jupyter-widgets/base",
          "model_name": "LayoutModel",
          "model_module_version": "1.2.0",
          "state": {
            "_model_module": "@jupyter-widgets/base",
            "_model_module_version": "1.2.0",
            "_model_name": "LayoutModel",
            "_view_count": null,
            "_view_module": "@jupyter-widgets/base",
            "_view_module_version": "1.2.0",
            "_view_name": "LayoutView",
            "align_content": null,
            "align_items": null,
            "align_self": null,
            "border": null,
            "bottom": null,
            "display": null,
            "flex": null,
            "flex_flow": null,
            "grid_area": null,
            "grid_auto_columns": null,
            "grid_auto_flow": null,
            "grid_auto_rows": null,
            "grid_column": null,
            "grid_gap": null,
            "grid_row": null,
            "grid_template_areas": null,
            "grid_template_columns": null,
            "grid_template_rows": null,
            "height": null,
            "justify_content": null,
            "justify_items": null,
            "left": null,
            "margin": null,
            "max_height": null,
            "max_width": null,
            "min_height": null,
            "min_width": null,
            "object_fit": null,
            "object_position": null,
            "order": null,
            "overflow": null,
            "overflow_x": null,
            "overflow_y": null,
            "padding": null,
            "right": null,
            "top": null,
            "visibility": null,
            "width": null
          }
        },
        "e9e68eb9cf9b4730aa6b59e2e1906aab": {
          "model_module": "@jupyter-widgets/base",
          "model_name": "LayoutModel",
          "model_module_version": "1.2.0",
          "state": {
            "_model_module": "@jupyter-widgets/base",
            "_model_module_version": "1.2.0",
            "_model_name": "LayoutModel",
            "_view_count": null,
            "_view_module": "@jupyter-widgets/base",
            "_view_module_version": "1.2.0",
            "_view_name": "LayoutView",
            "align_content": null,
            "align_items": null,
            "align_self": null,
            "border": null,
            "bottom": null,
            "display": null,
            "flex": null,
            "flex_flow": null,
            "grid_area": null,
            "grid_auto_columns": null,
            "grid_auto_flow": null,
            "grid_auto_rows": null,
            "grid_column": null,
            "grid_gap": null,
            "grid_row": null,
            "grid_template_areas": null,
            "grid_template_columns": null,
            "grid_template_rows": null,
            "height": null,
            "justify_content": null,
            "justify_items": null,
            "left": null,
            "margin": null,
            "max_height": null,
            "max_width": null,
            "min_height": null,
            "min_width": null,
            "object_fit": null,
            "object_position": null,
            "order": null,
            "overflow": null,
            "overflow_x": null,
            "overflow_y": null,
            "padding": null,
            "right": null,
            "top": null,
            "visibility": null,
            "width": null
          }
        },
        "1ea1b5f23ea54870b07aa3a2a028ba1f": {
          "model_module": "@jupyter-widgets/controls",
          "model_name": "DescriptionStyleModel",
          "model_module_version": "1.5.0",
          "state": {
            "_model_module": "@jupyter-widgets/controls",
            "_model_module_version": "1.5.0",
            "_model_name": "DescriptionStyleModel",
            "_view_count": null,
            "_view_module": "@jupyter-widgets/base",
            "_view_module_version": "1.2.0",
            "_view_name": "StyleView",
            "description_width": ""
          }
        },
        "4333f226580f4f68bcec4533e78a89cd": {
          "model_module": "@jupyter-widgets/base",
          "model_name": "LayoutModel",
          "model_module_version": "1.2.0",
          "state": {
            "_model_module": "@jupyter-widgets/base",
            "_model_module_version": "1.2.0",
            "_model_name": "LayoutModel",
            "_view_count": null,
            "_view_module": "@jupyter-widgets/base",
            "_view_module_version": "1.2.0",
            "_view_name": "LayoutView",
            "align_content": null,
            "align_items": null,
            "align_self": null,
            "border": null,
            "bottom": null,
            "display": null,
            "flex": null,
            "flex_flow": null,
            "grid_area": null,
            "grid_auto_columns": null,
            "grid_auto_flow": null,
            "grid_auto_rows": null,
            "grid_column": null,
            "grid_gap": null,
            "grid_row": null,
            "grid_template_areas": null,
            "grid_template_columns": null,
            "grid_template_rows": null,
            "height": null,
            "justify_content": null,
            "justify_items": null,
            "left": null,
            "margin": null,
            "max_height": null,
            "max_width": null,
            "min_height": null,
            "min_width": null,
            "object_fit": null,
            "object_position": null,
            "order": null,
            "overflow": null,
            "overflow_x": null,
            "overflow_y": null,
            "padding": null,
            "right": null,
            "top": null,
            "visibility": null,
            "width": null
          }
        },
        "e7d1a643dfcd49feb6a2a8cee6f078d0": {
          "model_module": "@jupyter-widgets/controls",
          "model_name": "ProgressStyleModel",
          "model_module_version": "1.5.0",
          "state": {
            "_model_module": "@jupyter-widgets/controls",
            "_model_module_version": "1.5.0",
            "_model_name": "ProgressStyleModel",
            "_view_count": null,
            "_view_module": "@jupyter-widgets/base",
            "_view_module_version": "1.2.0",
            "_view_name": "StyleView",
            "bar_color": null,
            "description_width": ""
          }
        },
        "3ed5af8ce8ff4a08af2e39ca2ec1c00a": {
          "model_module": "@jupyter-widgets/base",
          "model_name": "LayoutModel",
          "model_module_version": "1.2.0",
          "state": {
            "_model_module": "@jupyter-widgets/base",
            "_model_module_version": "1.2.0",
            "_model_name": "LayoutModel",
            "_view_count": null,
            "_view_module": "@jupyter-widgets/base",
            "_view_module_version": "1.2.0",
            "_view_name": "LayoutView",
            "align_content": null,
            "align_items": null,
            "align_self": null,
            "border": null,
            "bottom": null,
            "display": null,
            "flex": null,
            "flex_flow": null,
            "grid_area": null,
            "grid_auto_columns": null,
            "grid_auto_flow": null,
            "grid_auto_rows": null,
            "grid_column": null,
            "grid_gap": null,
            "grid_row": null,
            "grid_template_areas": null,
            "grid_template_columns": null,
            "grid_template_rows": null,
            "height": null,
            "justify_content": null,
            "justify_items": null,
            "left": null,
            "margin": null,
            "max_height": null,
            "max_width": null,
            "min_height": null,
            "min_width": null,
            "object_fit": null,
            "object_position": null,
            "order": null,
            "overflow": null,
            "overflow_x": null,
            "overflow_y": null,
            "padding": null,
            "right": null,
            "top": null,
            "visibility": null,
            "width": null
          }
        },
        "a0fb3cc38522427785af464af2fe7905": {
          "model_module": "@jupyter-widgets/controls",
          "model_name": "DescriptionStyleModel",
          "model_module_version": "1.5.0",
          "state": {
            "_model_module": "@jupyter-widgets/controls",
            "_model_module_version": "1.5.0",
            "_model_name": "DescriptionStyleModel",
            "_view_count": null,
            "_view_module": "@jupyter-widgets/base",
            "_view_module_version": "1.2.0",
            "_view_name": "StyleView",
            "description_width": ""
          }
        },
        "db21992811eb454892b61c27821f5609": {
          "model_module": "@jupyter-widgets/controls",
          "model_name": "HBoxModel",
          "model_module_version": "1.5.0",
          "state": {
            "_dom_classes": [],
            "_model_module": "@jupyter-widgets/controls",
            "_model_module_version": "1.5.0",
            "_model_name": "HBoxModel",
            "_view_count": null,
            "_view_module": "@jupyter-widgets/controls",
            "_view_module_version": "1.5.0",
            "_view_name": "HBoxView",
            "box_style": "",
            "children": [
              "IPY_MODEL_735d9fe7e581487786d02bbc35b48894",
              "IPY_MODEL_bbfeb106bc3d4710b0cbc7e788a7cedc",
              "IPY_MODEL_0b37c772dc2646be8b7e0231bf74f2f4"
            ],
            "layout": "IPY_MODEL_5ffb0af7d64641ab8d85f06c9cbe68f1"
          }
        },
        "735d9fe7e581487786d02bbc35b48894": {
          "model_module": "@jupyter-widgets/controls",
          "model_name": "HTMLModel",
          "model_module_version": "1.5.0",
          "state": {
            "_dom_classes": [],
            "_model_module": "@jupyter-widgets/controls",
            "_model_module_version": "1.5.0",
            "_model_name": "HTMLModel",
            "_view_count": null,
            "_view_module": "@jupyter-widgets/controls",
            "_view_module_version": "1.5.0",
            "_view_name": "HTMLView",
            "description": "",
            "description_tooltip": null,
            "layout": "IPY_MODEL_6a12250701b9446499cb357143c8150d",
            "placeholder": "​",
            "style": "IPY_MODEL_b0ef55c69b9c457896ff6e83567b111b",
            "value": "Downloading: 100%"
          }
        },
        "bbfeb106bc3d4710b0cbc7e788a7cedc": {
          "model_module": "@jupyter-widgets/controls",
          "model_name": "FloatProgressModel",
          "model_module_version": "1.5.0",
          "state": {
            "_dom_classes": [],
            "_model_module": "@jupyter-widgets/controls",
            "_model_module_version": "1.5.0",
            "_model_name": "FloatProgressModel",
            "_view_count": null,
            "_view_module": "@jupyter-widgets/controls",
            "_view_module_version": "1.5.0",
            "_view_name": "ProgressView",
            "bar_style": "success",
            "description": "",
            "description_tooltip": null,
            "layout": "IPY_MODEL_5802e8408bac403c8abb423b1e7fc672",
            "max": 418719856,
            "min": 0,
            "orientation": "horizontal",
            "style": "IPY_MODEL_e047fa0825fe480c99f4464d3b6931ad",
            "value": 418719856
          }
        },
        "0b37c772dc2646be8b7e0231bf74f2f4": {
          "model_module": "@jupyter-widgets/controls",
          "model_name": "HTMLModel",
          "model_module_version": "1.5.0",
          "state": {
            "_dom_classes": [],
            "_model_module": "@jupyter-widgets/controls",
            "_model_module_version": "1.5.0",
            "_model_name": "HTMLModel",
            "_view_count": null,
            "_view_module": "@jupyter-widgets/controls",
            "_view_module_version": "1.5.0",
            "_view_name": "HTMLView",
            "description": "",
            "description_tooltip": null,
            "layout": "IPY_MODEL_c7825e34f17c4f75b10f610ae89872e8",
            "placeholder": "​",
            "style": "IPY_MODEL_8e1bd0263d7e486b8902019e9ed01183",
            "value": " 399M/399M [00:12&lt;00:00, 25.3MB/s]"
          }
        },
        "5ffb0af7d64641ab8d85f06c9cbe68f1": {
          "model_module": "@jupyter-widgets/base",
          "model_name": "LayoutModel",
          "model_module_version": "1.2.0",
          "state": {
            "_model_module": "@jupyter-widgets/base",
            "_model_module_version": "1.2.0",
            "_model_name": "LayoutModel",
            "_view_count": null,
            "_view_module": "@jupyter-widgets/base",
            "_view_module_version": "1.2.0",
            "_view_name": "LayoutView",
            "align_content": null,
            "align_items": null,
            "align_self": null,
            "border": null,
            "bottom": null,
            "display": null,
            "flex": null,
            "flex_flow": null,
            "grid_area": null,
            "grid_auto_columns": null,
            "grid_auto_flow": null,
            "grid_auto_rows": null,
            "grid_column": null,
            "grid_gap": null,
            "grid_row": null,
            "grid_template_areas": null,
            "grid_template_columns": null,
            "grid_template_rows": null,
            "height": null,
            "justify_content": null,
            "justify_items": null,
            "left": null,
            "margin": null,
            "max_height": null,
            "max_width": null,
            "min_height": null,
            "min_width": null,
            "object_fit": null,
            "object_position": null,
            "order": null,
            "overflow": null,
            "overflow_x": null,
            "overflow_y": null,
            "padding": null,
            "right": null,
            "top": null,
            "visibility": null,
            "width": null
          }
        },
        "6a12250701b9446499cb357143c8150d": {
          "model_module": "@jupyter-widgets/base",
          "model_name": "LayoutModel",
          "model_module_version": "1.2.0",
          "state": {
            "_model_module": "@jupyter-widgets/base",
            "_model_module_version": "1.2.0",
            "_model_name": "LayoutModel",
            "_view_count": null,
            "_view_module": "@jupyter-widgets/base",
            "_view_module_version": "1.2.0",
            "_view_name": "LayoutView",
            "align_content": null,
            "align_items": null,
            "align_self": null,
            "border": null,
            "bottom": null,
            "display": null,
            "flex": null,
            "flex_flow": null,
            "grid_area": null,
            "grid_auto_columns": null,
            "grid_auto_flow": null,
            "grid_auto_rows": null,
            "grid_column": null,
            "grid_gap": null,
            "grid_row": null,
            "grid_template_areas": null,
            "grid_template_columns": null,
            "grid_template_rows": null,
            "height": null,
            "justify_content": null,
            "justify_items": null,
            "left": null,
            "margin": null,
            "max_height": null,
            "max_width": null,
            "min_height": null,
            "min_width": null,
            "object_fit": null,
            "object_position": null,
            "order": null,
            "overflow": null,
            "overflow_x": null,
            "overflow_y": null,
            "padding": null,
            "right": null,
            "top": null,
            "visibility": null,
            "width": null
          }
        },
        "b0ef55c69b9c457896ff6e83567b111b": {
          "model_module": "@jupyter-widgets/controls",
          "model_name": "DescriptionStyleModel",
          "model_module_version": "1.5.0",
          "state": {
            "_model_module": "@jupyter-widgets/controls",
            "_model_module_version": "1.5.0",
            "_model_name": "DescriptionStyleModel",
            "_view_count": null,
            "_view_module": "@jupyter-widgets/base",
            "_view_module_version": "1.2.0",
            "_view_name": "StyleView",
            "description_width": ""
          }
        },
        "5802e8408bac403c8abb423b1e7fc672": {
          "model_module": "@jupyter-widgets/base",
          "model_name": "LayoutModel",
          "model_module_version": "1.2.0",
          "state": {
            "_model_module": "@jupyter-widgets/base",
            "_model_module_version": "1.2.0",
            "_model_name": "LayoutModel",
            "_view_count": null,
            "_view_module": "@jupyter-widgets/base",
            "_view_module_version": "1.2.0",
            "_view_name": "LayoutView",
            "align_content": null,
            "align_items": null,
            "align_self": null,
            "border": null,
            "bottom": null,
            "display": null,
            "flex": null,
            "flex_flow": null,
            "grid_area": null,
            "grid_auto_columns": null,
            "grid_auto_flow": null,
            "grid_auto_rows": null,
            "grid_column": null,
            "grid_gap": null,
            "grid_row": null,
            "grid_template_areas": null,
            "grid_template_columns": null,
            "grid_template_rows": null,
            "height": null,
            "justify_content": null,
            "justify_items": null,
            "left": null,
            "margin": null,
            "max_height": null,
            "max_width": null,
            "min_height": null,
            "min_width": null,
            "object_fit": null,
            "object_position": null,
            "order": null,
            "overflow": null,
            "overflow_x": null,
            "overflow_y": null,
            "padding": null,
            "right": null,
            "top": null,
            "visibility": null,
            "width": null
          }
        },
        "e047fa0825fe480c99f4464d3b6931ad": {
          "model_module": "@jupyter-widgets/controls",
          "model_name": "ProgressStyleModel",
          "model_module_version": "1.5.0",
          "state": {
            "_model_module": "@jupyter-widgets/controls",
            "_model_module_version": "1.5.0",
            "_model_name": "ProgressStyleModel",
            "_view_count": null,
            "_view_module": "@jupyter-widgets/base",
            "_view_module_version": "1.2.0",
            "_view_name": "StyleView",
            "bar_color": null,
            "description_width": ""
          }
        },
        "c7825e34f17c4f75b10f610ae89872e8": {
          "model_module": "@jupyter-widgets/base",
          "model_name": "LayoutModel",
          "model_module_version": "1.2.0",
          "state": {
            "_model_module": "@jupyter-widgets/base",
            "_model_module_version": "1.2.0",
            "_model_name": "LayoutModel",
            "_view_count": null,
            "_view_module": "@jupyter-widgets/base",
            "_view_module_version": "1.2.0",
            "_view_name": "LayoutView",
            "align_content": null,
            "align_items": null,
            "align_self": null,
            "border": null,
            "bottom": null,
            "display": null,
            "flex": null,
            "flex_flow": null,
            "grid_area": null,
            "grid_auto_columns": null,
            "grid_auto_flow": null,
            "grid_auto_rows": null,
            "grid_column": null,
            "grid_gap": null,
            "grid_row": null,
            "grid_template_areas": null,
            "grid_template_columns": null,
            "grid_template_rows": null,
            "height": null,
            "justify_content": null,
            "justify_items": null,
            "left": null,
            "margin": null,
            "max_height": null,
            "max_width": null,
            "min_height": null,
            "min_width": null,
            "object_fit": null,
            "object_position": null,
            "order": null,
            "overflow": null,
            "overflow_x": null,
            "overflow_y": null,
            "padding": null,
            "right": null,
            "top": null,
            "visibility": null,
            "width": null
          }
        },
        "8e1bd0263d7e486b8902019e9ed01183": {
          "model_module": "@jupyter-widgets/controls",
          "model_name": "DescriptionStyleModel",
          "model_module_version": "1.5.0",
          "state": {
            "_model_module": "@jupyter-widgets/controls",
            "_model_module_version": "1.5.0",
            "_model_name": "DescriptionStyleModel",
            "_view_count": null,
            "_view_module": "@jupyter-widgets/base",
            "_view_module_version": "1.2.0",
            "_view_name": "StyleView",
            "description_width": ""
          }
        }
      }
    }
  },
  "cells": [
    {
      "cell_type": "markdown",
      "source": [
        "# Set up"
      ],
      "metadata": {
        "id": "sS8f7is2XPqE"
      }
    },
    {
      "cell_type": "code",
      "source": [
        "!gdown --id 1Q3OexUDv1-U06DpLZNKZLNwFCGCIw5CK"
      ],
      "metadata": {
        "colab": {
          "base_uri": "https://localhost:8080/"
        },
        "id": "MchdKFUbCRek",
        "outputId": "407248cb-9281-4c84-c803-82e79b860e1a"
      },
      "execution_count": null,
      "outputs": [
        {
          "output_type": "stream",
          "name": "stdout",
          "text": [
            "/usr/local/lib/python3.7/dist-packages/gdown/cli.py:131: FutureWarning: Option `--id` was deprecated in version 4.3.1 and will be removed in 5.0. You don't need to pass it anymore to use a file ID.\n",
            "  category=FutureWarning,\n",
            "Downloading...\n",
            "From: https://drive.google.com/uc?id=1Q3OexUDv1-U06DpLZNKZLNwFCGCIw5CK\n",
            "To: /content/thsarabunnew-webfont.ttf\n",
            "100% 98.3k/98.3k [00:00<00:00, 52.7MB/s]\n"
          ]
        }
      ]
    },
    {
      "cell_type": "code",
      "source": [
        "!pip install deepcut"
      ],
      "metadata": {
        "colab": {
          "base_uri": "https://localhost:8080/"
        },
        "id": "H06DQEXz4StS",
        "outputId": "e75e711b-81fe-4cdd-9b9f-4a892775ad5e"
      },
      "execution_count": null,
      "outputs": [
        {
          "output_type": "stream",
          "name": "stdout",
          "text": [
            "Collecting deepcut\n",
            "  Downloading deepcut-0.7.0.0-py3-none-any.whl (2.0 MB)\n",
            "\u001b[K     |████████████████████████████████| 2.0 MB 5.1 MB/s \n",
            "\u001b[?25hRequirement already satisfied: h5py in /usr/local/lib/python3.7/dist-packages (from deepcut) (3.1.0)\n",
            "Requirement already satisfied: pandas in /usr/local/lib/python3.7/dist-packages (from deepcut) (1.3.5)\n",
            "Requirement already satisfied: tensorflow>=2.0.0 in /usr/local/lib/python3.7/dist-packages (from deepcut) (2.8.0)\n",
            "Requirement already satisfied: numpy in /usr/local/lib/python3.7/dist-packages (from deepcut) (1.21.6)\n",
            "Requirement already satisfied: scipy in /usr/local/lib/python3.7/dist-packages (from deepcut) (1.4.1)\n",
            "Requirement already satisfied: scikit-learn in /usr/local/lib/python3.7/dist-packages (from deepcut) (1.0.2)\n",
            "Requirement already satisfied: wrapt>=1.11.0 in /usr/local/lib/python3.7/dist-packages (from tensorflow>=2.0.0->deepcut) (1.14.0)\n",
            "Requirement already satisfied: protobuf>=3.9.2 in /usr/local/lib/python3.7/dist-packages (from tensorflow>=2.0.0->deepcut) (3.17.3)\n",
            "Requirement already satisfied: libclang>=9.0.1 in /usr/local/lib/python3.7/dist-packages (from tensorflow>=2.0.0->deepcut) (13.0.0)\n",
            "Requirement already satisfied: flatbuffers>=1.12 in /usr/local/lib/python3.7/dist-packages (from tensorflow>=2.0.0->deepcut) (2.0)\n",
            "Requirement already satisfied: termcolor>=1.1.0 in /usr/local/lib/python3.7/dist-packages (from tensorflow>=2.0.0->deepcut) (1.1.0)\n",
            "Requirement already satisfied: setuptools in /usr/local/lib/python3.7/dist-packages (from tensorflow>=2.0.0->deepcut) (57.4.0)\n",
            "Requirement already satisfied: grpcio<2.0,>=1.24.3 in /usr/local/lib/python3.7/dist-packages (from tensorflow>=2.0.0->deepcut) (1.44.0)\n",
            "Requirement already satisfied: six>=1.12.0 in /usr/local/lib/python3.7/dist-packages (from tensorflow>=2.0.0->deepcut) (1.15.0)\n",
            "Requirement already satisfied: keras-preprocessing>=1.1.1 in /usr/local/lib/python3.7/dist-packages (from tensorflow>=2.0.0->deepcut) (1.1.2)\n",
            "Requirement already satisfied: typing-extensions>=3.6.6 in /usr/local/lib/python3.7/dist-packages (from tensorflow>=2.0.0->deepcut) (4.2.0)\n",
            "Requirement already satisfied: tensorboard<2.9,>=2.8 in /usr/local/lib/python3.7/dist-packages (from tensorflow>=2.0.0->deepcut) (2.8.0)\n",
            "Requirement already satisfied: keras<2.9,>=2.8.0rc0 in /usr/local/lib/python3.7/dist-packages (from tensorflow>=2.0.0->deepcut) (2.8.0)\n",
            "Requirement already satisfied: absl-py>=0.4.0 in /usr/local/lib/python3.7/dist-packages (from tensorflow>=2.0.0->deepcut) (1.0.0)\n",
            "Requirement already satisfied: tf-estimator-nightly==2.8.0.dev2021122109 in /usr/local/lib/python3.7/dist-packages (from tensorflow>=2.0.0->deepcut) (2.8.0.dev2021122109)\n",
            "Requirement already satisfied: google-pasta>=0.1.1 in /usr/local/lib/python3.7/dist-packages (from tensorflow>=2.0.0->deepcut) (0.2.0)\n",
            "Requirement already satisfied: astunparse>=1.6.0 in /usr/local/lib/python3.7/dist-packages (from tensorflow>=2.0.0->deepcut) (1.6.3)\n",
            "Requirement already satisfied: gast>=0.2.1 in /usr/local/lib/python3.7/dist-packages (from tensorflow>=2.0.0->deepcut) (0.5.3)\n",
            "Requirement already satisfied: opt-einsum>=2.3.2 in /usr/local/lib/python3.7/dist-packages (from tensorflow>=2.0.0->deepcut) (3.3.0)\n",
            "Requirement already satisfied: tensorflow-io-gcs-filesystem>=0.23.1 in /usr/local/lib/python3.7/dist-packages (from tensorflow>=2.0.0->deepcut) (0.24.0)\n",
            "Requirement already satisfied: wheel<1.0,>=0.23.0 in /usr/local/lib/python3.7/dist-packages (from astunparse>=1.6.0->tensorflow>=2.0.0->deepcut) (0.37.1)\n",
            "Requirement already satisfied: cached-property in /usr/local/lib/python3.7/dist-packages (from h5py->deepcut) (1.5.2)\n",
            "Requirement already satisfied: google-auth-oauthlib<0.5,>=0.4.1 in /usr/local/lib/python3.7/dist-packages (from tensorboard<2.9,>=2.8->tensorflow>=2.0.0->deepcut) (0.4.6)\n",
            "Requirement already satisfied: tensorboard-plugin-wit>=1.6.0 in /usr/local/lib/python3.7/dist-packages (from tensorboard<2.9,>=2.8->tensorflow>=2.0.0->deepcut) (1.8.1)\n",
            "Requirement already satisfied: werkzeug>=0.11.15 in /usr/local/lib/python3.7/dist-packages (from tensorboard<2.9,>=2.8->tensorflow>=2.0.0->deepcut) (1.0.1)\n",
            "Requirement already satisfied: markdown>=2.6.8 in /usr/local/lib/python3.7/dist-packages (from tensorboard<2.9,>=2.8->tensorflow>=2.0.0->deepcut) (3.3.6)\n",
            "Requirement already satisfied: google-auth<3,>=1.6.3 in /usr/local/lib/python3.7/dist-packages (from tensorboard<2.9,>=2.8->tensorflow>=2.0.0->deepcut) (1.35.0)\n",
            "Requirement already satisfied: requests<3,>=2.21.0 in /usr/local/lib/python3.7/dist-packages (from tensorboard<2.9,>=2.8->tensorflow>=2.0.0->deepcut) (2.23.0)\n",
            "Requirement already satisfied: tensorboard-data-server<0.7.0,>=0.6.0 in /usr/local/lib/python3.7/dist-packages (from tensorboard<2.9,>=2.8->tensorflow>=2.0.0->deepcut) (0.6.1)\n",
            "Requirement already satisfied: pyasn1-modules>=0.2.1 in /usr/local/lib/python3.7/dist-packages (from google-auth<3,>=1.6.3->tensorboard<2.9,>=2.8->tensorflow>=2.0.0->deepcut) (0.2.8)\n",
            "Requirement already satisfied: cachetools<5.0,>=2.0.0 in /usr/local/lib/python3.7/dist-packages (from google-auth<3,>=1.6.3->tensorboard<2.9,>=2.8->tensorflow>=2.0.0->deepcut) (4.2.4)\n",
            "Requirement already satisfied: rsa<5,>=3.1.4 in /usr/local/lib/python3.7/dist-packages (from google-auth<3,>=1.6.3->tensorboard<2.9,>=2.8->tensorflow>=2.0.0->deepcut) (4.8)\n",
            "Requirement already satisfied: requests-oauthlib>=0.7.0 in /usr/local/lib/python3.7/dist-packages (from google-auth-oauthlib<0.5,>=0.4.1->tensorboard<2.9,>=2.8->tensorflow>=2.0.0->deepcut) (1.3.1)\n",
            "Requirement already satisfied: importlib-metadata>=4.4 in /usr/local/lib/python3.7/dist-packages (from markdown>=2.6.8->tensorboard<2.9,>=2.8->tensorflow>=2.0.0->deepcut) (4.11.3)\n",
            "Requirement already satisfied: zipp>=0.5 in /usr/local/lib/python3.7/dist-packages (from importlib-metadata>=4.4->markdown>=2.6.8->tensorboard<2.9,>=2.8->tensorflow>=2.0.0->deepcut) (3.8.0)\n",
            "Requirement already satisfied: pyasn1<0.5.0,>=0.4.6 in /usr/local/lib/python3.7/dist-packages (from pyasn1-modules>=0.2.1->google-auth<3,>=1.6.3->tensorboard<2.9,>=2.8->tensorflow>=2.0.0->deepcut) (0.4.8)\n",
            "Requirement already satisfied: urllib3!=1.25.0,!=1.25.1,<1.26,>=1.21.1 in /usr/local/lib/python3.7/dist-packages (from requests<3,>=2.21.0->tensorboard<2.9,>=2.8->tensorflow>=2.0.0->deepcut) (1.25.11)\n",
            "Requirement already satisfied: certifi>=2017.4.17 in /usr/local/lib/python3.7/dist-packages (from requests<3,>=2.21.0->tensorboard<2.9,>=2.8->tensorflow>=2.0.0->deepcut) (2021.10.8)\n",
            "Requirement already satisfied: idna<3,>=2.5 in /usr/local/lib/python3.7/dist-packages (from requests<3,>=2.21.0->tensorboard<2.9,>=2.8->tensorflow>=2.0.0->deepcut) (2.10)\n",
            "Requirement already satisfied: chardet<4,>=3.0.2 in /usr/local/lib/python3.7/dist-packages (from requests<3,>=2.21.0->tensorboard<2.9,>=2.8->tensorflow>=2.0.0->deepcut) (3.0.4)\n",
            "Requirement already satisfied: oauthlib>=3.0.0 in /usr/local/lib/python3.7/dist-packages (from requests-oauthlib>=0.7.0->google-auth-oauthlib<0.5,>=0.4.1->tensorboard<2.9,>=2.8->tensorflow>=2.0.0->deepcut) (3.2.0)\n",
            "Requirement already satisfied: python-dateutil>=2.7.3 in /usr/local/lib/python3.7/dist-packages (from pandas->deepcut) (2.8.2)\n",
            "Requirement already satisfied: pytz>=2017.3 in /usr/local/lib/python3.7/dist-packages (from pandas->deepcut) (2022.1)\n",
            "Requirement already satisfied: joblib>=0.11 in /usr/local/lib/python3.7/dist-packages (from scikit-learn->deepcut) (1.1.0)\n",
            "Requirement already satisfied: threadpoolctl>=2.0.0 in /usr/local/lib/python3.7/dist-packages (from scikit-learn->deepcut) (3.1.0)\n",
            "Installing collected packages: deepcut\n",
            "Successfully installed deepcut-0.7.0.0\n"
          ]
        }
      ]
    },
    {
      "cell_type": "code",
      "execution_count": null,
      "metadata": {
        "colab": {
          "base_uri": "https://localhost:8080/"
        },
        "id": "1mNfOlSkCCiq",
        "outputId": "2eeee645-cf44-4e58-adf4-1f5d8a22672b"
      },
      "outputs": [
        {
          "output_type": "stream",
          "name": "stdout",
          "text": [
            "\u001b[K     |████████████████████████████████| 965 kB 4.9 MB/s \n",
            "\u001b[K     |████████████████████████████████| 11.5 MB 37.9 MB/s \n",
            "\u001b[K     |████████████████████████████████| 1.2 MB 46.0 MB/s \n",
            "\u001b[K     |████████████████████████████████| 1.7 MB 31.7 MB/s \n",
            "\u001b[K     |████████████████████████████████| 895 kB 42.0 MB/s \n",
            "\u001b[K     |████████████████████████████████| 1.5 MB 46.0 MB/s \n",
            "\u001b[K     |████████████████████████████████| 1.5 MB 28.7 MB/s \n",
            "\u001b[K     |████████████████████████████████| 1.5 MB 43.2 MB/s \n",
            "\u001b[K     |████████████████████████████████| 1.3 MB 40.6 MB/s \n",
            "\u001b[K     |████████████████████████████████| 8.7 MB 30.8 MB/s \n",
            "\u001b[K     |████████████████████████████████| 4.0 MB 45.0 MB/s \n",
            "\u001b[K     |████████████████████████████████| 44.2 MB 81 kB/s \n",
            "\u001b[K     |████████████████████████████████| 24.1 MB 12.8 MB/s \n",
            "\u001b[K     |████████████████████████████████| 18.2 MB 425 kB/s \n",
            "\u001b[K     |████████████████████████████████| 305 kB 62.2 MB/s \n",
            "\u001b[?25h  Installing build dependencies ... \u001b[?25l\u001b[?25hdone\n",
            "  Getting requirements to build wheel ... \u001b[?25l\u001b[?25hdone\n",
            "    Preparing wheel metadata ... \u001b[?25l\u001b[?25hdone\n",
            "\u001b[K     |████████████████████████████████| 47.5 MB 1.5 MB/s \n",
            "\u001b[?25h  Installing build dependencies ... \u001b[?25l\u001b[?25hdone\n",
            "  Getting requirements to build wheel ... \u001b[?25l\u001b[?25hdone\n",
            "    Preparing wheel metadata ... \u001b[?25l\u001b[?25hdone\n",
            "\u001b[K     |████████████████████████████████| 2.6 MB 41.0 MB/s \n",
            "\u001b[K     |████████████████████████████████| 175 kB 56.0 MB/s \n",
            "\u001b[K     |████████████████████████████████| 158 kB 55.3 MB/s \n",
            "\u001b[K     |████████████████████████████████| 596 kB 44.8 MB/s \n",
            "\u001b[K     |████████████████████████████████| 473 kB 57.2 MB/s \n",
            "\u001b[K     |████████████████████████████████| 87 kB 6.1 MB/s \n",
            "\u001b[K     |████████████████████████████████| 1.2 MB 50.7 MB/s \n",
            "\u001b[K     |████████████████████████████████| 73 kB 1.7 MB/s \n",
            "\u001b[K     |████████████████████████████████| 90 kB 8.0 MB/s \n",
            "\u001b[K     |████████████████████████████████| 147 kB 71.5 MB/s \n",
            "\u001b[K     |████████████████████████████████| 749 kB 56.7 MB/s \n",
            "\u001b[K     |████████████████████████████████| 312 kB 67.2 MB/s \n",
            "\u001b[K     |████████████████████████████████| 125 kB 59.8 MB/s \n",
            "\u001b[K     |████████████████████████████████| 462 kB 41.8 MB/s \n",
            "\u001b[K     |████████████████████████████████| 77 kB 6.2 MB/s \n",
            "\u001b[K     |████████████████████████████████| 6.6 MB 43.5 MB/s \n",
            "\u001b[K     |████████████████████████████████| 74 kB 3.4 MB/s \n",
            "\u001b[K     |████████████████████████████████| 112 kB 56.0 MB/s \n",
            "\u001b[?25h  Building wheel for emoji (setup.py) ... \u001b[?25l\u001b[?25hdone\n",
            "  Building wheel for fire (setup.py) ... \u001b[?25l\u001b[?25hdone\n",
            "  Building wheel for phunspell (PEP 517) ... \u001b[?25l\u001b[?25hdone\n",
            "  Building wheel for pyahocorasick (setup.py) ... \u001b[?25l\u001b[?25hdone\n",
            "  Building wheel for pyicu (PEP 517) ... \u001b[?25l\u001b[?25hdone\n",
            "  Building wheel for tltk (setup.py) ... \u001b[?25l\u001b[?25hdone\n",
            "  Building wheel for antlr4-python3-runtime (setup.py) ... \u001b[?25l\u001b[?25hdone\n",
            "  Building wheel for unicodecsv (setup.py) ... \u001b[?25l\u001b[?25hdone\n",
            "\u001b[K     |████████████████████████████████| 325 kB 5.2 MB/s \n",
            "\u001b[K     |████████████████████████████████| 136 kB 55.3 MB/s \n",
            "\u001b[K     |████████████████████████████████| 1.1 MB 51.7 MB/s \n",
            "\u001b[K     |████████████████████████████████| 212 kB 58.0 MB/s \n",
            "\u001b[K     |████████████████████████████████| 127 kB 57.8 MB/s \n",
            "\u001b[K     |████████████████████████████████| 94 kB 759 kB/s \n",
            "\u001b[K     |████████████████████████████████| 144 kB 62.9 MB/s \n",
            "\u001b[K     |████████████████████████████████| 271 kB 59.4 MB/s \n",
            "\u001b[31mERROR: pip's dependency resolver does not currently take into account all the packages that are installed. This behaviour is the source of the following dependency conflicts.\n",
            "datascience 0.10.6 requires folium==0.2.1, but you have folium 0.8.3 which is incompatible.\u001b[0m\n",
            "\u001b[?25h"
          ]
        }
      ],
      "source": [
        "!pip -q install python-crfsuite pythainlp[full]\n",
        "!pip install -q gensim datasets transformers[sentencepiece]"
      ]
    },
    {
      "cell_type": "code",
      "source": [
        "#standard\n",
        "import re\n",
        "import pandas as pd\n",
        "import numpy as np\n",
        "import pickle\n",
        "import string\n",
        "from tqdm import tqdm\n",
        "\n",
        "#python nlp (Thai)\n",
        "from pythainlp.corpus import thai_stopwords\n",
        "from pythainlp.tokenize import word_tokenize, subword_tokenize\n",
        "\n",
        "#tranformers\n",
        "from datasets import load_dataset\n",
        "import torch\n",
        "from torch.utils.data import Dataset, random_split\n",
        "from transformers import AutoTokenizer, pipeline\n",
        "\n",
        "# For visualization\n",
        "import seaborn as sns\n",
        "import matplotlib as mpl\n",
        "from matplotlib import pyplot as plt\n",
        "# params\n",
        "pd.set_option(\"max_colwidth\", 0)\n",
        "sns.set_context(\"talk\")\n",
        "sns.set_palette(sns.color_palette(\"colorblind\", 10))\n",
        "mpl.font_manager.fontManager.addfont('thsarabunnew-webfont.ttf') \n",
        "mpl.rc('font', family='TH Sarabun New')\n",
        "\n",
        "%matplotlib inline"
      ],
      "metadata": {
        "id": "zzxQk4IiEqhX"
      },
      "execution_count": null,
      "outputs": []
    },
    {
      "cell_type": "code",
      "source": [
        "#load dataset\n",
        "thai_toxic = load_dataset('thai_toxicity_tweet')\n",
        "thai_toxic = pd.DataFrame(thai_toxic['train'])\n",
        "thai_toxic.head()"
      ],
      "metadata": {
        "colab": {
          "base_uri": "https://localhost:8080/",
          "height": 255,
          "referenced_widgets": [
            "290daa96c6ef460c9ed639fcb599be4d",
            "c29f5c41aef7474b8635de64df0a4384",
            "102dad2497ad4ef09c82f3f402048eb4",
            "35d31ce72d804817a4df9ce4383e457c",
            "f9a8733fab62445fa97fa7c8a6ea8bbe",
            "d20df7c5d1bd4838bed897a4a033789f",
            "e2c4e609d835441ea6d50223656609ef",
            "fc845fa45bf74a84acffc402ad4da5fb",
            "3f60a3ec3ce149aab9b92dfc6cf1de0d",
            "bf433b0d13b14089bcf8a91c34dce2a0",
            "9526e81b131c4b019cec8ee4aee3f3cc"
          ]
        },
        "id": "TgF5tT-WFC-s",
        "outputId": "502b8c8a-7d44-4dbc-e74c-8988674d5451"
      },
      "execution_count": null,
      "outputs": [
        {
          "output_type": "stream",
          "name": "stderr",
          "text": [
            "Reusing dataset thai_toxicity_tweet (/root/.cache/huggingface/datasets/thai_toxicity_tweet/thai_toxicity_tweet/1.0.0/6156251739b83a8e57f9ed4adf0f1d134e9bfded6d2870647558fdb7a0e60306)\n"
          ]
        },
        {
          "output_type": "display_data",
          "data": {
            "text/plain": [
              "  0%|          | 0/1 [00:00<?, ?it/s]"
            ],
            "application/vnd.jupyter.widget-view+json": {
              "version_major": 2,
              "version_minor": 0,
              "model_id": "290daa96c6ef460c9ed639fcb599be4d"
            }
          },
          "metadata": {}
        },
        {
          "output_type": "execute_result",
          "data": {
            "text/plain": [
              "             tweet_id  \\\n",
              "0  898576382384418817   \n",
              "1  847331851425300481   \n",
              "2  899587505493692417   \n",
              "3  898920493763280897   \n",
              "4  896808964326694912   \n",
              "\n",
              "                                                                                              tweet_text  \\\n",
              "0  วันๆ นี่คุยกะหมา แมว หมู ไก่ ม้า ควาย มากกว่าคุยกับคนไปละ                                               \n",
              "1  TWEET_NOT_FOUND                                                                                         \n",
              "2  หล่อมากกก หล่อวัวตายควายล้มกันเลยทีเดียวววว                                                             \n",
              "3  สิวเหี้ยไรขึ้นหลังหู เสียชาติเกิดมั้ย เกิดมามันต้องต้องโดดเด่นเด้งดึ๋งอย่าเช่นขึ้นที่หน้าไรงี้ อีควาย   \n",
              "4  อ่ะ ป่วยก็ป่วย งานจ้างก็ต้องทำ งานเรียนก็ต้องทำ วิชาดีไซน์ตัวร้ายกับควายอย่างกูเอง                      \n",
              "\n",
              "   toxic_votes  nontoxic_votes  is_toxic  \n",
              "0  0            3               0         \n",
              "1  3            0               1         \n",
              "2  0            3               0         \n",
              "3  0            3               0         \n",
              "4  0            3               0         "
            ],
            "text/html": [
              "\n",
              "  <div id=\"df-9f189f28-7d15-44f7-889d-89b96ca5e1ff\">\n",
              "    <div class=\"colab-df-container\">\n",
              "      <div>\n",
              "<style scoped>\n",
              "    .dataframe tbody tr th:only-of-type {\n",
              "        vertical-align: middle;\n",
              "    }\n",
              "\n",
              "    .dataframe tbody tr th {\n",
              "        vertical-align: top;\n",
              "    }\n",
              "\n",
              "    .dataframe thead th {\n",
              "        text-align: right;\n",
              "    }\n",
              "</style>\n",
              "<table border=\"1\" class=\"dataframe\">\n",
              "  <thead>\n",
              "    <tr style=\"text-align: right;\">\n",
              "      <th></th>\n",
              "      <th>tweet_id</th>\n",
              "      <th>tweet_text</th>\n",
              "      <th>toxic_votes</th>\n",
              "      <th>nontoxic_votes</th>\n",
              "      <th>is_toxic</th>\n",
              "    </tr>\n",
              "  </thead>\n",
              "  <tbody>\n",
              "    <tr>\n",
              "      <th>0</th>\n",
              "      <td>898576382384418817</td>\n",
              "      <td>วันๆ นี่คุยกะหมา แมว หมู ไก่ ม้า ควาย มากกว่าคุยกับคนไปละ</td>\n",
              "      <td>0</td>\n",
              "      <td>3</td>\n",
              "      <td>0</td>\n",
              "    </tr>\n",
              "    <tr>\n",
              "      <th>1</th>\n",
              "      <td>847331851425300481</td>\n",
              "      <td>TWEET_NOT_FOUND</td>\n",
              "      <td>3</td>\n",
              "      <td>0</td>\n",
              "      <td>1</td>\n",
              "    </tr>\n",
              "    <tr>\n",
              "      <th>2</th>\n",
              "      <td>899587505493692417</td>\n",
              "      <td>หล่อมากกก หล่อวัวตายควายล้มกันเลยทีเดียวววว</td>\n",
              "      <td>0</td>\n",
              "      <td>3</td>\n",
              "      <td>0</td>\n",
              "    </tr>\n",
              "    <tr>\n",
              "      <th>3</th>\n",
              "      <td>898920493763280897</td>\n",
              "      <td>สิวเหี้ยไรขึ้นหลังหู เสียชาติเกิดมั้ย เกิดมามันต้องต้องโดดเด่นเด้งดึ๋งอย่าเช่นขึ้นที่หน้าไรงี้ อีควาย</td>\n",
              "      <td>0</td>\n",
              "      <td>3</td>\n",
              "      <td>0</td>\n",
              "    </tr>\n",
              "    <tr>\n",
              "      <th>4</th>\n",
              "      <td>896808964326694912</td>\n",
              "      <td>อ่ะ ป่วยก็ป่วย งานจ้างก็ต้องทำ งานเรียนก็ต้องทำ วิชาดีไซน์ตัวร้ายกับควายอย่างกูเอง</td>\n",
              "      <td>0</td>\n",
              "      <td>3</td>\n",
              "      <td>0</td>\n",
              "    </tr>\n",
              "  </tbody>\n",
              "</table>\n",
              "</div>\n",
              "      <button class=\"colab-df-convert\" onclick=\"convertToInteractive('df-9f189f28-7d15-44f7-889d-89b96ca5e1ff')\"\n",
              "              title=\"Convert this dataframe to an interactive table.\"\n",
              "              style=\"display:none;\">\n",
              "        \n",
              "  <svg xmlns=\"http://www.w3.org/2000/svg\" height=\"24px\"viewBox=\"0 0 24 24\"\n",
              "       width=\"24px\">\n",
              "    <path d=\"M0 0h24v24H0V0z\" fill=\"none\"/>\n",
              "    <path d=\"M18.56 5.44l.94 2.06.94-2.06 2.06-.94-2.06-.94-.94-2.06-.94 2.06-2.06.94zm-11 1L8.5 8.5l.94-2.06 2.06-.94-2.06-.94L8.5 2.5l-.94 2.06-2.06.94zm10 10l.94 2.06.94-2.06 2.06-.94-2.06-.94-.94-2.06-.94 2.06-2.06.94z\"/><path d=\"M17.41 7.96l-1.37-1.37c-.4-.4-.92-.59-1.43-.59-.52 0-1.04.2-1.43.59L10.3 9.45l-7.72 7.72c-.78.78-.78 2.05 0 2.83L4 21.41c.39.39.9.59 1.41.59.51 0 1.02-.2 1.41-.59l7.78-7.78 2.81-2.81c.8-.78.8-2.07 0-2.86zM5.41 20L4 18.59l7.72-7.72 1.47 1.35L5.41 20z\"/>\n",
              "  </svg>\n",
              "      </button>\n",
              "      \n",
              "  <style>\n",
              "    .colab-df-container {\n",
              "      display:flex;\n",
              "      flex-wrap:wrap;\n",
              "      gap: 12px;\n",
              "    }\n",
              "\n",
              "    .colab-df-convert {\n",
              "      background-color: #E8F0FE;\n",
              "      border: none;\n",
              "      border-radius: 50%;\n",
              "      cursor: pointer;\n",
              "      display: none;\n",
              "      fill: #1967D2;\n",
              "      height: 32px;\n",
              "      padding: 0 0 0 0;\n",
              "      width: 32px;\n",
              "    }\n",
              "\n",
              "    .colab-df-convert:hover {\n",
              "      background-color: #E2EBFA;\n",
              "      box-shadow: 0px 1px 2px rgba(60, 64, 67, 0.3), 0px 1px 3px 1px rgba(60, 64, 67, 0.15);\n",
              "      fill: #174EA6;\n",
              "    }\n",
              "\n",
              "    [theme=dark] .colab-df-convert {\n",
              "      background-color: #3B4455;\n",
              "      fill: #D2E3FC;\n",
              "    }\n",
              "\n",
              "    [theme=dark] .colab-df-convert:hover {\n",
              "      background-color: #434B5C;\n",
              "      box-shadow: 0px 1px 3px 1px rgba(0, 0, 0, 0.15);\n",
              "      filter: drop-shadow(0px 1px 2px rgba(0, 0, 0, 0.3));\n",
              "      fill: #FFFFFF;\n",
              "    }\n",
              "  </style>\n",
              "\n",
              "      <script>\n",
              "        const buttonEl =\n",
              "          document.querySelector('#df-9f189f28-7d15-44f7-889d-89b96ca5e1ff button.colab-df-convert');\n",
              "        buttonEl.style.display =\n",
              "          google.colab.kernel.accessAllowed ? 'block' : 'none';\n",
              "\n",
              "        async function convertToInteractive(key) {\n",
              "          const element = document.querySelector('#df-9f189f28-7d15-44f7-889d-89b96ca5e1ff');\n",
              "          const dataTable =\n",
              "            await google.colab.kernel.invokeFunction('convertToInteractive',\n",
              "                                                     [key], {});\n",
              "          if (!dataTable) return;\n",
              "\n",
              "          const docLinkHtml = 'Like what you see? Visit the ' +\n",
              "            '<a target=\"_blank\" href=https://colab.research.google.com/notebooks/data_table.ipynb>data table notebook</a>'\n",
              "            + ' to learn more about interactive tables.';\n",
              "          element.innerHTML = '';\n",
              "          dataTable['output_type'] = 'display_data';\n",
              "          await google.colab.output.renderOutput(dataTable, element);\n",
              "          const docLink = document.createElement('div');\n",
              "          docLink.innerHTML = docLinkHtml;\n",
              "          element.appendChild(docLink);\n",
              "        }\n",
              "      </script>\n",
              "    </div>\n",
              "  </div>\n",
              "  "
            ]
          },
          "metadata": {},
          "execution_count": 9
        }
      ]
    },
    {
      "cell_type": "markdown",
      "source": [
        "# Tokenization"
      ],
      "metadata": {
        "id": "56bJ6l_yGqxs"
      }
    },
    {
      "cell_type": "code",
      "source": [
        "short_text = \"ถอยหมอน\"\n",
        "text = \"อะจ๊ะเอ๋ตัวเอง ท่านผู้เจริญผู้ซึ่งมากไปด้วยปัญญา อะฮ่า\"\n",
        "long_text = \"สวัสดี ฉันชื่อ คิระ โยชิคาเงะ อายุ 33 ปี อาศัยอยู่ย่านที่พักอาศัยทางตะวันออกเฉียงเหนือของเมืองโมริโอ ยังโสด ทำงานที่ห้างคาเมยู ทุกวันจะกลับบ้านก่อนสองทุ่ม ไม่สูบบุหรี่แต่ดื่มไวน์นิดหน่อย เข้านอนก่อนห้าทุ่มฉันต้องนอนวันละแปดชั่วโมง ก่อนนอนจะดื่มนมอุ่นๆหนึ่งแก้วและยืดเส้นยืดสาย20นาทีเพื่อผ่อนคลายร่างกายก่อนเข้านอนจะได้หลับสนิทตลอดทั้งคืน ฉันตื่นนอนเหมือนเด็กทารกปราศจากความเหนื่อยล้าและความเครียด ผลตรวจร่างกายก็ปกติ ฉันแค่จะบอกว่าฉันอยากอยู่อย่างสงบ ไม่ต้องการแข่งขันกับใครและไม่อยากสร้างปัญหาให้ตัวเองปวดหัวหรือสร้างศัตรูจนทำให้นอนไม่หลับ นั่นคือทัศนคติที่ฉันมีต่อสังคมและฉันรู้ว่ามันจะทำให้ฉันมีความสุข\""
      ],
      "metadata": {
        "id": "PfIsRPVeGTkQ"
      },
      "execution_count": null,
      "outputs": []
    },
    {
      "cell_type": "markdown",
      "source": [
        "## sentence level"
      ],
      "metadata": {
        "id": "7SK15BqXIqUY"
      }
    },
    {
      "cell_type": "code",
      "source": [
        "from pythainlp.tokenize import sent_tokenize"
      ],
      "metadata": {
        "id": "W5YAW26vQ4nk"
      },
      "execution_count": null,
      "outputs": []
    },
    {
      "cell_type": "code",
      "source": [
        "# crfcut engine (split by CRF trained on TED dataset)\n",
        "%%time\n",
        "print(sent_tokenize(text))\n",
        "print('\\n'.join(sent_tokenize(long_text)))"
      ],
      "metadata": {
        "colab": {
          "base_uri": "https://localhost:8080/"
        },
        "id": "SXjqoxDARR0Y",
        "outputId": "e1038d8f-0c18-4d08-9608-87ea64954294"
      },
      "execution_count": null,
      "outputs": [
        {
          "output_type": "stream",
          "name": "stdout",
          "text": [
            "['อะจ๊ะเอ๋ตัวเอง ', 'ท่านผู้เจริญผู้ซึ่งมากไปด้วยปัญญา ', 'อะฮ่า']\n",
            "สวัสดี ฉันชื่อ คิระ โยชิคาเงะ \n",
            "อายุ 33 ปี อาศัยอยู่ย่านที่พักอาศัยทางตะวันออกเฉียงเหนือของเมืองโมริโอ \n",
            "ยังโสด ทำงานที่ห้างคาเมยู ทุกวันจะกลับบ้านก่อนสองทุ่ม \n",
            "ไม่สูบบุหรี่แต่ดื่มไวน์นิดหน่อย เข้านอนก่อนห้าทุ่มฉันต้องนอนวันละแปดชั่วโมง ก่อนนอนจะดื่มนมอุ่นๆหนึ่งแก้วและยืดเส้นยืดสาย20นาทีเพื่อผ่อนคลายร่างกายก่อนเข้านอนจะได้หลับสนิทตลอดทั้งคืน \n",
            "ฉันตื่นนอนเหมือนเด็กทารกปราศจากความเหนื่อยล้าและความเครียด \n",
            "ผลตรวจร่างกายก็ปกติ \n",
            "ฉันแค่จะบอกว่าฉันอยากอยู่อย่างสงบ \n",
            "ไม่ต้องการแข่งขันกับใครและไม่อยากสร้างปัญหาให้ตัวเองปวดหัวหรือสร้างศัตรูจนทำให้นอนไม่หลับ \n",
            "นั่นคือทัศนคติที่ฉันมีต่อสังคมและฉันรู้ว่ามันจะทำให้ฉันมีความสุข\n",
            "CPU times: user 12.3 ms, sys: 1.75 ms, total: 14.1 ms\n",
            "Wall time: 16.9 ms\n"
          ]
        }
      ]
    },
    {
      "cell_type": "code",
      "source": [
        "# whitespace engine\n",
        "%%time\n",
        "print(sent_tokenize(text, engine=\"whitespace\"))\n",
        "print('\\n'.join(sent_tokenize(long_text, engine=\"whitespace\")))"
      ],
      "metadata": {
        "colab": {
          "base_uri": "https://localhost:8080/"
        },
        "id": "h5DVCP9MQ_an",
        "outputId": "3d438b89-e037-4f00-b9bd-7c2f67bf02e4"
      },
      "execution_count": null,
      "outputs": [
        {
          "output_type": "stream",
          "name": "stdout",
          "text": [
            "['อะจ๊ะเอ๋ตัวเอง', 'ท่านผู้เจริญผู้ซึ่งมากไปด้วยปัญญา', 'อะฮ่า']\n",
            "สวัสดี\n",
            "ฉันชื่อ\n",
            "คิระ\n",
            "โยชิคาเงะ\n",
            "อายุ\n",
            "33\n",
            "ปี\n",
            "อาศัยอยู่ย่านที่พักอาศัยทางตะวันออกเฉียงเหนือของเมืองโมริโอ\n",
            "ยังโสด\n",
            "ทำงานที่ห้างคาเมยู\n",
            "ทุกวันจะกลับบ้านก่อนสองทุ่ม\n",
            "ไม่สูบบุหรี่แต่ดื่มไวน์นิดหน่อย\n",
            "เข้านอนก่อนห้าทุ่มฉันต้องนอนวันละแปดชั่วโมง\n",
            "ก่อนนอนจะดื่มนมอุ่นๆหนึ่งแก้วและยืดเส้นยืดสาย20นาทีเพื่อผ่อนคลายร่างกายก่อนเข้านอนจะได้หลับสนิทตลอดทั้งคืน\n",
            "ฉันตื่นนอนเหมือนเด็กทารกปราศจากความเหนื่อยล้าและความเครียด\n",
            "ผลตรวจร่างกายก็ปกติ\n",
            "ฉันแค่จะบอกว่าฉันอยากอยู่อย่างสงบ\n",
            "ไม่ต้องการแข่งขันกับใครและไม่อยากสร้างปัญหาให้ตัวเองปวดหัวหรือสร้างศัตรูจนทำให้นอนไม่หลับ\n",
            "นั่นคือทัศนคติที่ฉันมีต่อสังคมและฉันรู้ว่ามันจะทำให้ฉันมีความสุข\n",
            "CPU times: user 1.57 ms, sys: 999 µs, total: 2.57 ms\n",
            "Wall time: 2.91 ms\n"
          ]
        }
      ]
    },
    {
      "cell_type": "code",
      "source": [
        "# whitespace+newline engine\n",
        "%%time\n",
        "print(sent_tokenize(text, engine=\"whitespace+newline\"))\n",
        "print('\\n'.join(sent_tokenize(long_text, engine=\"whitespace+newline\")))"
      ],
      "metadata": {
        "colab": {
          "base_uri": "https://localhost:8080/"
        },
        "id": "RVHuPEWbRsl-",
        "outputId": "b1631723-0d0b-4d14-e8e9-f2604992d307"
      },
      "execution_count": null,
      "outputs": [
        {
          "output_type": "stream",
          "name": "stdout",
          "text": [
            "['อะจ๊ะเอ๋ตัวเอง', 'ท่านผู้เจริญผู้ซึ่งมากไปด้วยปัญญา', 'อะฮ่า']\n",
            "สวัสดี\n",
            "ฉันชื่อ\n",
            "คิระ\n",
            "โยชิคาเงะ\n",
            "อายุ\n",
            "33\n",
            "ปี\n",
            "อาศัยอยู่ย่านที่พักอาศัยทางตะวันออกเฉียงเหนือของเมืองโมริโอ\n",
            "ยังโสด\n",
            "ทำงานที่ห้างคาเมยู\n",
            "ทุกวันจะกลับบ้านก่อนสองทุ่ม\n",
            "ไม่สูบบุหรี่แต่ดื่มไวน์นิดหน่อย\n",
            "เข้านอนก่อนห้าทุ่มฉันต้องนอนวันละแปดชั่วโมง\n",
            "ก่อนนอนจะดื่มนมอุ่นๆหนึ่งแก้วและยืดเส้นยืดสาย20นาทีเพื่อผ่อนคลายร่างกายก่อนเข้านอนจะได้หลับสนิทตลอดทั้งคืน\n",
            "ฉันตื่นนอนเหมือนเด็กทารกปราศจากความเหนื่อยล้าและความเครียด\n",
            "ผลตรวจร่างกายก็ปกติ\n",
            "ฉันแค่จะบอกว่าฉันอยากอยู่อย่างสงบ\n",
            "ไม่ต้องการแข่งขันกับใครและไม่อยากสร้างปัญหาให้ตัวเองปวดหัวหรือสร้างศัตรูจนทำให้นอนไม่หลับ\n",
            "นั่นคือทัศนคติที่ฉันมีต่อสังคมและฉันรู้ว่ามันจะทำให้ฉันมีความสุข\n",
            "CPU times: user 593 µs, sys: 43 µs, total: 636 µs\n",
            "Wall time: 536 µs\n"
          ]
        }
      ]
    },
    {
      "cell_type": "code",
      "source": [
        "# tltk engine\n",
        "%%time\n",
        "print(sent_tokenize(text, engine=\"tltk\"))\n",
        "print('\\n'.join(sent_tokenize(long_text, engine=\"tltk\")))"
      ],
      "metadata": {
        "colab": {
          "base_uri": "https://localhost:8080/"
        },
        "id": "5fJr3pyvRsz9",
        "outputId": "2d78e30d-d57d-414f-c838-9b4c9897dbd9"
      },
      "execution_count": null,
      "outputs": [
        {
          "output_type": "stream",
          "name": "stdout",
          "text": [
            "['อะจ๊ะเอ๋ตัวเอง ท่านผู้เจริญผู้ซึ่งมากไปด้วยปัญญา อะฮ่า']\n",
            "สวัสดี ฉันชื่อ คิระ โยชิคาเงะ อายุ 33 ปี อาศัยอยู่ย่านที่พักอาศัยทางตะวันออกเฉียงเหนือของเมืองโมริโอ ยังโสด ทำงานที่ห้างคาเมยู ทุกวันจะกลับบ้านก่อนสองทุ่ม ไม่สูบบุหรี่แต่ดื่มไวน์นิดหน่อย เข้านอนก่อนห้าทุ่มฉันต้องนอนวันละแปดชั่วโมง ก่อนนอนจะดื่มนมอุ่นๆ\n",
            "หนึ่งแก้วและยืดเส้นยืดสาย20นาทีเพื่อผ่อนคลายร่างกายก่อนเข้านอนจะได้หลับสนิทตลอดทั้งคืน ฉันตื่นนอนเหมือนเด็กทารกปราศจากความเหนื่อยล้าและความเครียด ผลตรวจร่างกายก็ปกติ ฉันแค่จะบอกว่าฉันอยากอยู่อย่างสงบ ไม่ต้องการแข่งขันกับใครและไม่อยากสร้างปัญหาให้ตัวเองปวดหัวหรือสร้างศัตรูจนทำให้นอนไม่หลับ นั่นคือทัศนคติที่ฉันมีต่อสังคมและฉันรู้ว่ามันจะทำให้ฉันมีความสุข\n",
            "CPU times: user 5.63 s, sys: 12.9 ms, total: 5.64 s\n",
            "Wall time: 5.63 s\n"
          ]
        }
      ]
    },
    {
      "cell_type": "markdown",
      "source": [
        "## clause level"
      ],
      "metadata": {
        "id": "ewkuXCOKQk-w"
      }
    },
    {
      "cell_type": "markdown",
      "source": [
        "need list of word for input"
      ],
      "metadata": {
        "id": "wE4LjVrlVgb0"
      }
    },
    {
      "cell_type": "code",
      "source": [
        "from pythainlp.tokenize import clause_tokenize"
      ],
      "metadata": {
        "id": "DkwzeNtESpDu"
      },
      "execution_count": null,
      "outputs": []
    },
    {
      "cell_type": "code",
      "source": [
        "%%time\n",
        "print(clause_tokenize(['ถอย','หมอน']))\n",
        "print(clause_tokenize(['อะ','จ๊ะเอ๋','ตัวเอง','ท่าน','ผู้เจริญ','ผู้','ซึ่ง','มาก','ไป','ด้วย','ปัญญา','อะฮ่า']))"
      ],
      "metadata": {
        "colab": {
          "base_uri": "https://localhost:8080/"
        },
        "id": "vle9798QSqHB",
        "outputId": "e8a6bf3d-ff7c-4c66-aa43-383bae6481aa"
      },
      "execution_count": null,
      "outputs": [
        {
          "output_type": "stream",
          "name": "stdout",
          "text": [
            "[['ถอย', 'หมอน']]\n",
            "[['อะ', 'จ๊ะเอ๋', 'ตัวเอง', 'ท่าน', 'ผู้เจริญ', 'ผู้'], ['ซึ่ง', 'มาก', 'ไป', 'ด้วย', 'ปัญญา', 'อะฮ่า']]\n",
            "CPU times: user 2.9 ms, sys: 1.02 ms, total: 3.92 ms\n",
            "Wall time: 3.82 ms\n"
          ]
        }
      ]
    },
    {
      "cell_type": "markdown",
      "source": [
        "## word level"
      ],
      "metadata": {
        "id": "RU5OM_OvQoM0"
      }
    },
    {
      "cell_type": "markdown",
      "source": [
        "### dictionary base"
      ],
      "metadata": {
        "id": "IyBynrSkxA11"
      }
    },
    {
      "cell_type": "code",
      "source": [
        "# longest maching (ตัดคำให้ยาวที่สุด)\n",
        "%%time\n",
        "print('|'.join(word_tokenize(short_text, engine='longest')))\n",
        "print('|'.join(word_tokenize(text, engine='longest')))"
      ],
      "metadata": {
        "colab": {
          "base_uri": "https://localhost:8080/"
        },
        "id": "birFXnC-x5wm",
        "outputId": "ece7e868-9649-4603-9904-bd4cad142b1b"
      },
      "execution_count": null,
      "outputs": [
        {
          "output_type": "stream",
          "name": "stdout",
          "text": [
            "ถอย|หมอน\n",
            "อะ|จ๊ะเอ๋|ตัวเอง| |ท่าน|ผู้|เจริญ|ผู้|ซึ่ง|มาก|ไป|ด้วย|ปัญญา| |อะ|ฮ่า\n",
            "CPU times: user 2.17 ms, sys: 0 ns, total: 2.17 ms\n",
            "Wall time: 2.89 ms\n"
          ]
        }
      ]
    },
    {
      "cell_type": "code",
      "source": [
        "# maximal maching + Thai Character Cluster\n",
        "# (ตัดคำให้มีจน.น้อยที่สุด และจน.คำที่ไม่มีความหมายน้อยที่สุด)\n",
        "%%time\n",
        "print('|'.join(word_tokenize(short_text, engine='newmm')))\n",
        "print('|'.join(word_tokenize(text, engine='newmm')))"
      ],
      "metadata": {
        "colab": {
          "base_uri": "https://localhost:8080/"
        },
        "id": "bjvd7MgAyCAI",
        "outputId": "73fa2d7e-6b29-4782-bb07-678c8cc9a6b3"
      },
      "execution_count": null,
      "outputs": [
        {
          "output_type": "stream",
          "name": "stdout",
          "text": [
            "ถอย|หมอน\n",
            "อะ|จ๊ะเอ๋|ตัวเอง| |ท่าน|ผู้|เจริญ|ผู้|ซึ่ง|มาก|ไป|ด้วย|ปัญญา| |อะ|ฮ่า\n",
            "CPU times: user 2.44 ms, sys: 0 ns, total: 2.44 ms\n",
            "Wall time: 7.91 ms\n"
          ]
        }
      ]
    },
    {
      "cell_type": "code",
      "source": [
        "# maximal maching + Thai Character Cluster (TCC) boundaries\n",
        "%%time\n",
        "print('|'.join(word_tokenize(short_text, engine='nercut')))\n",
        "print('|'.join(word_tokenize(text, engine='nercut')))"
      ],
      "metadata": {
        "colab": {
          "base_uri": "https://localhost:8080/"
        },
        "id": "bwzxIvJby_ju",
        "outputId": "0d76c60b-e260-4276-b4ec-43df6463e5a2"
      },
      "execution_count": null,
      "outputs": [
        {
          "output_type": "stream",
          "name": "stdout",
          "text": [
            "Corpus: thainer\n",
            "- Downloading: thainer 1.5\n"
          ]
        },
        {
          "output_type": "stream",
          "name": "stderr",
          "text": [
            "100%|██████████| 1637304/1637304 [00:00<00:00, 29065567.57it/s]"
          ]
        },
        {
          "output_type": "stream",
          "name": "stdout",
          "text": [
            "ถอย|หมอน\n",
            "อะ|จ๊ะเอ๋|ตัวเอง| |ท่าน|ผู้|เจริญ|ผู้|ซึ่ง|มาก|ไป|ด้วย|ปัญญา| |อะ|ฮ่า\n",
            "CPU times: user 85.3 ms, sys: 8.97 ms, total: 94.3 ms\n",
            "Wall time: 662 ms\n"
          ]
        },
        {
          "output_type": "stream",
          "name": "stderr",
          "text": [
            "\n"
          ]
        }
      ]
    },
    {
      "cell_type": "code",
      "source": [
        "# maximal maching + Thai Character Cluster boundaries for rust/node.js\n",
        "%%time\n",
        "print('|'.join(word_tokenize(short_text, engine='nlpo3')))\n",
        "print('|'.join(word_tokenize(text, engine='nlpo3')))"
      ],
      "metadata": {
        "colab": {
          "base_uri": "https://localhost:8080/"
        },
        "id": "8NOP0KnLz_Gk",
        "outputId": "16b1ad39-17bf-41f2-ac0c-29c5756667fb"
      },
      "execution_count": null,
      "outputs": [
        {
          "output_type": "stream",
          "name": "stdout",
          "text": [
            "ถอย|หมอน\n",
            "อะ|จ๊ะเอ๋|ตัวเอง| |ท่าน|ผู้|เจริญ|ผู้|ซึ่ง|มาก|ไป|ด้วย|ปัญญา| |อะ|ฮ่า\n",
            "CPU times: user 102 ms, sys: 51.5 ms, total: 153 ms\n",
            "Wall time: 161 ms\n"
          ]
        }
      ]
    },
    {
      "cell_type": "code",
      "source": [
        "# maximal maching\n",
        "%%time\n",
        "print('|'.join(word_tokenize(short_text, engine='multi_cut')))\n",
        "print('|'.join(word_tokenize(text, engine='multi_cut')))"
      ],
      "metadata": {
        "colab": {
          "base_uri": "https://localhost:8080/"
        },
        "id": "YtY0PlkiUt_0",
        "outputId": "1b6977e3-5410-4012-f280-bb3deff3a30c"
      },
      "execution_count": null,
      "outputs": [
        {
          "output_type": "stream",
          "name": "stdout",
          "text": [
            "ถอย|หมอน\n",
            "อะ|จ๊ะเอ๋|ตัวเอง| |ท่าน|ผู้|เจริญ|ผู้|ซึ่ง|มาก|ไป|ด้วย|ปัญญา| |อะ|ฮ่า\n",
            "CPU times: user 10.3 ms, sys: 912 µs, total: 11.2 ms\n",
            "Wall time: 13 ms\n"
          ]
        }
      ]
    },
    {
      "cell_type": "markdown",
      "source": [
        "### machine learning base"
      ],
      "metadata": {
        "id": "TDYHQmvLx0Mu"
      }
    },
    {
      "cell_type": "code",
      "source": [
        "# sefr cut (Stacked Ensemble Filter and Refine for Word Segmentation)\n",
        "%%time\n",
        "print('|'.join(word_tokenize(short_text, engine='sefr_cut')))\n",
        "print('|'.join(word_tokenize(text, engine='sefr_cut')))"
      ],
      "metadata": {
        "colab": {
          "base_uri": "https://localhost:8080/"
        },
        "id": "9HlANMHH1RZd",
        "outputId": "de448c00-ce82-4799-e2f3-62b7983543ff"
      },
      "execution_count": null,
      "outputs": [
        {
          "output_type": "stream",
          "name": "stdout",
          "text": [
            "loading model.....\n",
            "Success\n",
            "ถอย|หมอน\n",
            "อะ|จ๊ะ|เอ๋|ตัว|เอง| |ท่าน|ผู้|เจริญ|ผู้|ซึ่ง|มาก|ไป|ด้วย|ปัญญา| |อะ|ฮ่า\n",
            "CPU times: user 1.5 s, sys: 95.8 ms, total: 1.6 s\n",
            "Wall time: 2.24 s\n"
          ]
        }
      ]
    },
    {
      "cell_type": "markdown",
      "source": [
        "### deep learning base"
      ],
      "metadata": {
        "id": "6yaJaBiyx3M8"
      }
    },
    {
      "cell_type": "code",
      "source": [
        "# AttaCut (CNN base)\n",
        "%%time\n",
        "print('|'.join(word_tokenize(short_text, engine='attacut')))\n",
        "print('|'.join(word_tokenize(text, engine='attacut')))"
      ],
      "metadata": {
        "colab": {
          "base_uri": "https://localhost:8080/"
        },
        "id": "QZwFKBMr3Qkc",
        "outputId": "134f02b1-e498-4a7d-9a46-37714bfe04c0"
      },
      "execution_count": null,
      "outputs": [
        {
          "output_type": "stream",
          "name": "stdout",
          "text": [
            "ถอย|หมอน\n",
            "อะจ๊ะเอ๋|ตัว|เอง| |ท่าน|ผู้|เจริญ|ผู้|ซึ่ง|มาก|ไป|ด้วย|ปัญญา| |อะฮ่า\n",
            "CPU times: user 65.2 ms, sys: 3.65 ms, total: 68.8 ms\n",
            "Wall time: 128 ms\n"
          ]
        }
      ]
    },
    {
      "cell_type": "code",
      "source": [
        "# DeepCut (CNN base)\n",
        "%%time\n",
        "print('|'.join(word_tokenize(short_text, engine='deepcut')))\n",
        "print('|'.join(word_tokenize(text, engine='deepcut')))"
      ],
      "metadata": {
        "colab": {
          "base_uri": "https://localhost:8080/"
        },
        "id": "rwM76t2s3QM_",
        "outputId": "cd16422c-066e-4502-b15d-61b3909b3e1e"
      },
      "execution_count": null,
      "outputs": [
        {
          "output_type": "stream",
          "name": "stdout",
          "text": [
            "ถอยหมอน\n",
            "อะจ๊ะ|เอ๋|ตัว|เอง| |ท่าน|ผู้|เจริญ|ผู้|ซึ่ง|มาก|ไป|ด้วย|ปัญญา อะฮ่า\n",
            "CPU times: user 1.61 s, sys: 21.4 ms, total: 1.63 s\n",
            "Wall time: 2.1 s\n"
          ]
        }
      ]
    },
    {
      "cell_type": "code",
      "source": [
        "# OSKut (Out-of-domain StacKed cut for Word Segmentation)\n",
        "# CNN + Bidirectional LSTM + attention\n",
        "%%time\n",
        "print('|'.join(word_tokenize(short_text, engine='oskut')))\n",
        "print('|'.join(word_tokenize(text, engine='oskut')))"
      ],
      "metadata": {
        "colab": {
          "base_uri": "https://localhost:8080/"
        },
        "id": "8p0bEj7_1mIp",
        "outputId": "af02db17-4579-42ff-e7d1-dd90ae8484e2"
      },
      "execution_count": null,
      "outputs": [
        {
          "output_type": "stream",
          "name": "stdout",
          "text": [
            "ถอยหมอน\n",
            "อะ|จ๊ะ|เอ๋|ตัว|เอง| |ท่าน|ผู้|เจริญ|ผู้ซึ่ง|มาก|ไป|ด้วย|ปัญญา| |อะ|ฮ่า\n",
            "CPU times: user 420 ms, sys: 16.7 ms, total: 437 ms\n",
            "Wall time: 530 ms\n"
          ]
        }
      ]
    },
    {
      "cell_type": "markdown",
      "source": [
        "## subword level"
      ],
      "metadata": {
        "id": "FDUPICwEQpyB"
      }
    },
    {
      "cell_type": "code",
      "source": [
        "# tcc (Thai Character Clusters)\n",
        "%%time\n",
        "print('|'.join(subword_tokenize(short_text, engine='tcc')))\n",
        "print('|'.join(subword_tokenize(text, engine='tcc')))"
      ],
      "metadata": {
        "colab": {
          "base_uri": "https://localhost:8080/"
        },
        "id": "JPg7gbxu40TK",
        "outputId": "e920d2f8-c6c0-4c74-ea92-f98bc61674ca"
      },
      "execution_count": null,
      "outputs": [
        {
          "output_type": "stream",
          "name": "stdout",
          "text": [
            "ถ|อ|ย|ห|ม|อ|น\n",
            "อะ|จ๊ะ|เอ๋|ตัว|เอ|ง| |ท่า|น|ผู้|เจ|ริ|ญ|ผู้|ซึ่|ง|มา|ก|ไป|ด้|ว|ย|ปัญ|ญา| |อะ|ฮ่า\n",
            "CPU times: user 2.37 ms, sys: 0 ns, total: 2.37 ms\n",
            "Wall time: 2.39 ms\n"
          ]
        }
      ]
    },
    {
      "cell_type": "code",
      "source": [
        "# etcc (enhanced Thai Character Cluster)\n",
        "%%time\n",
        "print('|'.join(subword_tokenize(short_text, engine='etcc')))\n",
        "print('|'.join(subword_tokenize(text, engine='etcc')))"
      ],
      "metadata": {
        "colab": {
          "base_uri": "https://localhost:8080/"
        },
        "id": "ZVmigZAY6DZO",
        "outputId": "43404c37-5227-4b13-fbaf-0f856a3ef78f"
      },
      "execution_count": null,
      "outputs": [
        {
          "output_type": "stream",
          "name": "stdout",
          "text": [
            "ถ|อ|ย|ห|ม|อ|น\n",
            "อะ|จ๊ะ|เอ๋ตัวเอ|ง| |ท่า|น|ผู้เจ|ริญ|ผู้|ซึ่|ง|มา|ก|ไป|ด้|ว|ย|ปัญ|ญา| |อะ|ฮ่า\n",
            "CPU times: user 563 ms, sys: 75.5 ms, total: 639 ms\n",
            "Wall time: 654 ms\n"
          ]
        }
      ]
    },
    {
      "cell_type": "code",
      "source": [
        "# dict (newmm word tokenizer with a syllable dictionary)\n",
        "%%time\n",
        "print('|'.join(subword_tokenize(short_text, engine='dict')))\n",
        "print('|'.join(subword_tokenize(text, engine='dict')))"
      ],
      "metadata": {
        "colab": {
          "base_uri": "https://localhost:8080/"
        },
        "id": "2djNlC3v6Db_",
        "outputId": "eb13f6de-7fc2-41a2-cdc0-77bb9c4dc7b5"
      },
      "execution_count": null,
      "outputs": [
        {
          "output_type": "stream",
          "name": "stdout",
          "text": [
            "ถอย|หมอน\n",
            "อะ|จ๊ะ|เอ๋|ตัว|เอง| |ท่าน|ผู้|เจริญ|ผู้|ซึ่ง|มาก|ไป|ด้วย|ปัญ|ญา| |อะ|ฮ่า\n",
            "CPU times: user 5.58 ms, sys: 0 ns, total: 5.58 ms\n",
            "Wall time: 5.59 ms\n"
          ]
        }
      ]
    },
    {
      "cell_type": "code",
      "source": [
        "# ssg (CRF syllable segmenter for Thai)\n",
        "%%time\n",
        "print('|'.join(subword_tokenize(short_text, engine='ssg')))\n",
        "print('|'.join(subword_tokenize(text, engine='ssg')))"
      ],
      "metadata": {
        "colab": {
          "base_uri": "https://localhost:8080/"
        },
        "id": "7rSjWF9h6De2",
        "outputId": "6c5b34f9-574e-4f16-f69f-72003d90afe8"
      },
      "execution_count": null,
      "outputs": [
        {
          "output_type": "stream",
          "name": "stdout",
          "text": [
            "ถอย|หมอน\n",
            "อะ|จ๊ะ|เอ๋|ตัว|เอง| ท่าน|ผู้|เจริญ|ผู้|ซึ่ง|มาก|ไป|ด้วย|ปัญ|ญา| |อะ|ฮ่า\n",
            "CPU times: user 4.43 ms, sys: 15 µs, total: 4.45 ms\n",
            "Wall time: 7.59 ms\n"
          ]
        }
      ]
    },
    {
      "cell_type": "code",
      "source": [
        "# tltk (syllable tokenizer from tltk)\n",
        "%%time\n",
        "print('|'.join(subword_tokenize(short_text, engine='tltk')))\n",
        "print('|'.join(subword_tokenize(text, engine='tltk')))"
      ],
      "metadata": {
        "colab": {
          "base_uri": "https://localhost:8080/"
        },
        "id": "sxbMygO06Dhh",
        "outputId": "828438c3-adb3-42e7-dd8e-edd4e5a8f397"
      },
      "execution_count": null,
      "outputs": [
        {
          "output_type": "stream",
          "name": "stdout",
          "text": [
            "ถอย|หมอน\n",
            "อะ|จ๊ะ|เอ๋|ตัว|เอง|<s/>ท่าน|ผู้|เจริญ|ผู้|ซึ่ง|มาก|ไป|ด้วย|ปัญ|ญา|<s/>อะ|ฮ่า\n",
            "CPU times: user 798 ms, sys: 3.2 ms, total: 802 ms\n",
            "Wall time: 807 ms\n"
          ]
        }
      ]
    },
    {
      "cell_type": "code",
      "source": [
        "'''\n",
        "%%time\n",
        "print('|'.join(subword_tokenize(short_text, engine='wangchanberta')))\n",
        "print('|'.join(subword_tokenize(text, engine='wangchanberta')))\n",
        "'''"
      ],
      "metadata": {
        "colab": {
          "base_uri": "https://localhost:8080/",
          "height": 246,
          "referenced_widgets": [
            "1e3ef8a0870b4140b7058e3956866657",
            "844ea600eb9c4daf8ae51ff2956a3096",
            "aaca43a58467482187cbdbf33a82ebf9",
            "12281938a03a4d189e59b9b30410bd26",
            "257097c1ced4484d8fe040afaea35d6d",
            "ffef34196c3f45f18a7e78ad23762446",
            "05274b72943a443db90ffc74a5c283cd",
            "14f6ef0aa5f24caf96801b33eb4e8eff",
            "7c9478237343430ba717a6868393d740",
            "754c60e9edce4be1b1c5bc29ba9162d2",
            "a408e705f762416a8563c98daf7e190d",
            "f863c4facd3d49e287ede7d57d9cd927",
            "97c85a740fae4effb1bbbada9b665b25",
            "8ea728f5151a42fa899b8b4b311f98bc",
            "f8392e663ec4453a91decb4be5814574",
            "3762ae88e061406f9d46ec2bab9b6741",
            "c0ae02503f9a4a73b3c112b6f8306f4b",
            "faacc429370847ca8e5cbf5ca716a028",
            "7cb3b6021f9c48b3bb05fb208e116fef",
            "ff494bf1c3134a739be7889c49afe453",
            "8321886df761480d825e882596e012ff",
            "a2674599da0f4a36a211f83e6ee39880",
            "61796c2543c6483aaa551c58e6eb13dc",
            "af1bf8c45fc04966b898a92d2b53578c",
            "3c5bf322fd0b4d3b8d909e0d55ec14cd",
            "733729d68e8b422d82f166b361e50113",
            "4ba95fa351534722a7516d42e29ca5f8",
            "3c95fc2ecb8b40f59acb6b2213b35b01",
            "a0d4bc2fc4f145d49abd57a0eeac81a8",
            "494f9f554cb048ed9be4e7a7669b90dc",
            "6f012738c95f461caf289bf4229d9502",
            "60cb529a31da4d3898d5cc622a9cb59b",
            "cf02ae5bc6704ed0bf9534602dbb3fc7",
            "c0c0e2d1ed8f436ab8bc74ace2dec598",
            "83264a162c424a8091ef2cd3f1eaf62b",
            "1e3fed36aff34a02851ddd9d6d9484f8",
            "072880f18f9a4f6b9ba1408a370ccd0b",
            "e91a8256115347d1811e97d19e559dcc",
            "e9e68eb9cf9b4730aa6b59e2e1906aab",
            "1ea1b5f23ea54870b07aa3a2a028ba1f",
            "4333f226580f4f68bcec4533e78a89cd",
            "e7d1a643dfcd49feb6a2a8cee6f078d0",
            "3ed5af8ce8ff4a08af2e39ca2ec1c00a",
            "a0fb3cc38522427785af464af2fe7905",
            "db21992811eb454892b61c27821f5609",
            "735d9fe7e581487786d02bbc35b48894",
            "bbfeb106bc3d4710b0cbc7e788a7cedc",
            "0b37c772dc2646be8b7e0231bf74f2f4",
            "5ffb0af7d64641ab8d85f06c9cbe68f1",
            "6a12250701b9446499cb357143c8150d",
            "b0ef55c69b9c457896ff6e83567b111b",
            "5802e8408bac403c8abb423b1e7fc672",
            "e047fa0825fe480c99f4464d3b6931ad",
            "c7825e34f17c4f75b10f610ae89872e8",
            "8e1bd0263d7e486b8902019e9ed01183"
          ]
        },
        "id": "Rr8J2ene6YBQ",
        "outputId": "0e684e56-ade6-497a-a2dc-c937ac1b1d2a"
      },
      "execution_count": null,
      "outputs": [
        {
          "output_type": "display_data",
          "data": {
            "text/plain": [
              "Downloading:   0%|          | 0.00/883k [00:00<?, ?B/s]"
            ],
            "application/vnd.jupyter.widget-view+json": {
              "version_major": 2,
              "version_minor": 0,
              "model_id": "1e3ef8a0870b4140b7058e3956866657"
            }
          },
          "metadata": {}
        },
        {
          "output_type": "display_data",
          "data": {
            "text/plain": [
              "Downloading:   0%|          | 0.00/282 [00:00<?, ?B/s]"
            ],
            "application/vnd.jupyter.widget-view+json": {
              "version_major": 2,
              "version_minor": 0,
              "model_id": "f863c4facd3d49e287ede7d57d9cd927"
            }
          },
          "metadata": {}
        },
        {
          "output_type": "display_data",
          "data": {
            "text/plain": [
              "Downloading:   0%|          | 0.00/546 [00:00<?, ?B/s]"
            ],
            "application/vnd.jupyter.widget-view+json": {
              "version_major": 2,
              "version_minor": 0,
              "model_id": "61796c2543c6483aaa551c58e6eb13dc"
            }
          },
          "metadata": {}
        },
        {
          "output_type": "display_data",
          "data": {
            "text/plain": [
              "Downloading:   0%|          | 0.00/1.03k [00:00<?, ?B/s]"
            ],
            "application/vnd.jupyter.widget-view+json": {
              "version_major": 2,
              "version_minor": 0,
              "model_id": "c0c0e2d1ed8f436ab8bc74ace2dec598"
            }
          },
          "metadata": {}
        },
        {
          "output_type": "display_data",
          "data": {
            "text/plain": [
              "Downloading:   0%|          | 0.00/399M [00:00<?, ?B/s]"
            ],
            "application/vnd.jupyter.widget-view+json": {
              "version_major": 2,
              "version_minor": 0,
              "model_id": "db21992811eb454892b61c27821f5609"
            }
          },
          "metadata": {}
        },
        {
          "output_type": "stream",
          "name": "stdout",
          "text": [
            "▁|ถอย|หมอน\n",
            "▁|อะ|จ๊ะ|เอ๋|ตัวเอง|▁ท่าน|ผู้|เจริญ|ผู้ซึ่ง|มาก|ไปด้วย|ปัญญา|▁|อะ|ฮ่า\n",
            "CPU times: user 11.1 s, sys: 3.73 s, total: 14.8 s\n",
            "Wall time: 18.1 s\n"
          ]
        }
      ]
    },
    {
      "cell_type": "code",
      "source": [
        "# wangchanberta (sentence pierce from bert model)\n",
        "%%time\n",
        "print('|'.join(subword_tokenize(short_text, engine='wangchanberta')))\n",
        "print('|'.join(subword_tokenize(text, engine='wangchanberta')))"
      ],
      "metadata": {
        "colab": {
          "base_uri": "https://localhost:8080/"
        },
        "id": "7GPJkQqn6pWN",
        "outputId": "51c517a4-1729-48ea-ac21-6f906b9b8645"
      },
      "execution_count": null,
      "outputs": [
        {
          "output_type": "stream",
          "name": "stdout",
          "text": [
            "▁|ถอย|หมอน\n",
            "▁|อะ|จ๊ะ|เอ๋|ตัวเอง|▁ท่าน|ผู้|เจริญ|ผู้ซึ่ง|มาก|ไปด้วย|ปัญญา|▁|อะ|ฮ่า\n",
            "CPU times: user 2.82 ms, sys: 0 ns, total: 2.82 ms\n",
            "Wall time: 7.94 ms\n"
          ]
        }
      ]
    },
    {
      "cell_type": "markdown",
      "source": [
        "## syllable level"
      ],
      "metadata": {
        "id": "gRIwAefgQtE-"
      }
    },
    {
      "cell_type": "code",
      "source": [
        "%%time\n",
        "print(list(short_text))\n",
        "print(list(text))"
      ],
      "metadata": {
        "colab": {
          "base_uri": "https://localhost:8080/"
        },
        "id": "_Bbk771TWYNY",
        "outputId": "fc197d21-9ef0-4a77-fbf7-727cc2e117a0"
      },
      "execution_count": null,
      "outputs": [
        {
          "output_type": "stream",
          "name": "stdout",
          "text": [
            "['ถ', 'อ', 'ย', 'ห', 'ม', 'อ', 'น']\n",
            "['อ', 'ะ', 'จ', '๊', 'ะ', 'เ', 'อ', '๋', 'ต', 'ั', 'ว', 'เ', 'อ', 'ง', ' ', 'ท', '่', 'า', 'น', 'ผ', 'ู', '้', 'เ', 'จ', 'ร', 'ิ', 'ญ', 'ผ', 'ู', '้', 'ซ', 'ึ', '่', 'ง', 'ม', 'า', 'ก', 'ไ', 'ป', 'ด', '้', 'ว', 'ย', 'ป', 'ั', 'ญ', 'ญ', 'า', ' ', 'อ', 'ะ', 'ฮ', '่', 'า']\n",
            "CPU times: user 179 µs, sys: 12 µs, total: 191 µs\n",
            "Wall time: 152 µs\n"
          ]
        }
      ]
    },
    {
      "cell_type": "markdown",
      "source": [
        "syllable_tokenize in pythainlp now is deprecated (from developer) "
      ],
      "metadata": {
        "id": "RNNq3SyxWy3N"
      }
    }
  ]
}